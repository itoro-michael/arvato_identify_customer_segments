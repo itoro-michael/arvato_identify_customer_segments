{
 "cells": [
  {
   "cell_type": "markdown",
   "metadata": {},
   "source": [
    "# Project: Identify Customer Segments\n",
    "\n",
    "In this project, you will apply unsupervised learning techniques to identify segments of the population that form the core customer base for a mail-order sales company in Germany. These segments can then be used to direct marketing campaigns towards audiences that will have the highest expected rate of returns. The data that you will use has been provided by our partners at Bertelsmann Arvato Analytics, and represents a real-life data science task.\n",
    "\n",
    "This notebook will help you complete this task by providing a framework within which you will perform your analysis steps. In each step of the project, you will see some text describing the subtask that you will perform, followed by one or more code cells for you to complete your work. **Feel free to add additional code and markdown cells as you go along so that you can explore everything in precise chunks.** The code cells provided in the base template will outline only the major tasks, and will usually not be enough to cover all of the minor tasks that comprise it.\n",
    "\n",
    "It should be noted that while there will be precise guidelines on how you should handle certain tasks in the project, there will also be places where an exact specification is not provided. **There will be times in the project where you will need to make and justify your own decisions on how to treat the data.** These are places where there may not be only one way to handle the data. In real-life tasks, there may be many valid ways to approach an analysis task. One of the most important things you can do is clearly document your approach so that other scientists can understand the decisions you've made.\n",
    "\n",
    "At the end of most sections, there will be a Markdown cell labeled **Discussion**. In these cells, you will report your findings for the completed section, as well as document the decisions that you made in your approach to each subtask. **Your project will be evaluated not just on the code used to complete the tasks outlined, but also your communication about your observations and conclusions at each stage.**"
   ]
  },
  {
   "cell_type": "code",
   "execution_count": 1,
   "metadata": {},
   "outputs": [],
   "source": [
    "# import libraries here; add more as necessary\n",
    "import numpy as np\n",
    "import pandas as pd\n",
    "import matplotlib.pyplot as plt\n",
    "import seaborn as sns\n",
    "import ast\n",
    "import time\n",
    "from matplotlib.pyplot import hist\n",
    "from sklearn.preprocessing import StandardScaler\n",
    "from sklearn.decomposition import PCA\n",
    "from sklearn.cluster import KMeans\n",
    "from mpl_toolkits.axes_grid1 import make_axes_locatable\n",
    "\n",
    "# produce visualizations in notebook\n",
    "%matplotlib inline"
   ]
  },
  {
   "cell_type": "markdown",
   "metadata": {},
   "source": [
    "### Step 0: Load the Data\n",
    "\n",
    "There are four files associated with this project (not including this one):\n",
    "\n",
    "- `Udacity_AZDIAS_Subset.csv`: Demographics data for the general population of Germany; 891211 persons (rows) x 85 features (columns).\n",
    "- `Udacity_CUSTOMERS_Subset.csv`: Demographics data for customers of a mail-order company; 191652 persons (rows) x 85 features (columns).\n",
    "- `Data_Dictionary.md`: Detailed information file about the features in the provided datasets.\n",
    "- `AZDIAS_Feature_Summary.csv`: Summary of feature attributes for demographics data; 85 features (rows) x 4 columns\n",
    "\n",
    "Each row of the demographics files represents a single person, but also includes information outside of individuals, including information about their household, building, and neighborhood. You will use this information to cluster the general population into groups with similar demographic properties. Then, you will see how the people in the customers dataset fit into those created clusters. The hope here is that certain clusters are over-represented in the customers data, as compared to the general population; those over-represented clusters will be assumed to be part of the core userbase. This information can then be used for further applications, such as targeting for a marketing campaign.\n",
    "\n",
    "To start off with, load in the demographics data for the general population into a pandas DataFrame, and do the same for the feature attributes summary. Note for all of the `.csv` data files in this project: they're semicolon (`;`) delimited, so you'll need an additional argument in your [`read_csv()`](https://pandas.pydata.org/pandas-docs/stable/generated/pandas.read_csv.html) call to read in the data properly. Also, considering the size of the main dataset, it may take some time for it to load completely.\n",
    "\n",
    "Once the dataset is loaded, it's recommended that you take a little bit of time just browsing the general structure of the dataset and feature summary file. You'll be getting deep into the innards of the cleaning in the first major step of the project, so gaining some general familiarity can help you get your bearings."
   ]
  },
  {
   "cell_type": "code",
   "execution_count": 2,
   "metadata": {},
   "outputs": [],
   "source": [
    "# Load in the general demographics data.\n",
    "azdias = pd.read_csv(\"Udacity_AZDIAS_Subset.csv\", sep=';')\n",
    "\n",
    "# Load in the feature summary file.\n",
    "feat_info = pd.read_csv(\"AZDIAS_Feature_Summary.csv\", sep=';')"
   ]
  },
  {
   "cell_type": "code",
   "execution_count": 3,
   "metadata": {},
   "outputs": [
    {
     "data": {
      "text/html": [
       "<div>\n",
       "<style scoped>\n",
       "    .dataframe tbody tr th:only-of-type {\n",
       "        vertical-align: middle;\n",
       "    }\n",
       "\n",
       "    .dataframe tbody tr th {\n",
       "        vertical-align: top;\n",
       "    }\n",
       "\n",
       "    .dataframe thead th {\n",
       "        text-align: right;\n",
       "    }\n",
       "</style>\n",
       "<table border=\"1\" class=\"dataframe\">\n",
       "  <thead>\n",
       "    <tr style=\"text-align: right;\">\n",
       "      <th></th>\n",
       "      <th>AGER_TYP</th>\n",
       "      <th>ALTERSKATEGORIE_GROB</th>\n",
       "      <th>ANREDE_KZ</th>\n",
       "      <th>CJT_GESAMTTYP</th>\n",
       "      <th>FINANZ_MINIMALIST</th>\n",
       "      <th>FINANZ_SPARER</th>\n",
       "      <th>FINANZ_VORSORGER</th>\n",
       "      <th>FINANZ_ANLEGER</th>\n",
       "      <th>FINANZ_UNAUFFAELLIGER</th>\n",
       "      <th>FINANZ_HAUSBAUER</th>\n",
       "      <th>...</th>\n",
       "      <th>PLZ8_ANTG1</th>\n",
       "      <th>PLZ8_ANTG2</th>\n",
       "      <th>PLZ8_ANTG3</th>\n",
       "      <th>PLZ8_ANTG4</th>\n",
       "      <th>PLZ8_BAUMAX</th>\n",
       "      <th>PLZ8_HHZ</th>\n",
       "      <th>PLZ8_GBZ</th>\n",
       "      <th>ARBEIT</th>\n",
       "      <th>ORTSGR_KLS9</th>\n",
       "      <th>RELAT_AB</th>\n",
       "    </tr>\n",
       "  </thead>\n",
       "  <tbody>\n",
       "    <tr>\n",
       "      <th>count</th>\n",
       "      <td>891221.000000</td>\n",
       "      <td>891221.000000</td>\n",
       "      <td>891221.000000</td>\n",
       "      <td>886367.000000</td>\n",
       "      <td>891221.000000</td>\n",
       "      <td>891221.000000</td>\n",
       "      <td>891221.000000</td>\n",
       "      <td>891221.000000</td>\n",
       "      <td>891221.000000</td>\n",
       "      <td>891221.000000</td>\n",
       "      <td>...</td>\n",
       "      <td>774706.000000</td>\n",
       "      <td>774706.000000</td>\n",
       "      <td>774706.000000</td>\n",
       "      <td>774706.000000</td>\n",
       "      <td>774706.000000</td>\n",
       "      <td>774706.000000</td>\n",
       "      <td>774706.000000</td>\n",
       "      <td>794005.000000</td>\n",
       "      <td>794005.000000</td>\n",
       "      <td>794005.00000</td>\n",
       "    </tr>\n",
       "    <tr>\n",
       "      <th>mean</th>\n",
       "      <td>-0.358435</td>\n",
       "      <td>2.777398</td>\n",
       "      <td>1.522098</td>\n",
       "      <td>3.632838</td>\n",
       "      <td>3.074528</td>\n",
       "      <td>2.821039</td>\n",
       "      <td>3.401106</td>\n",
       "      <td>3.033328</td>\n",
       "      <td>2.874167</td>\n",
       "      <td>3.075121</td>\n",
       "      <td>...</td>\n",
       "      <td>2.253330</td>\n",
       "      <td>2.801858</td>\n",
       "      <td>1.595426</td>\n",
       "      <td>0.699166</td>\n",
       "      <td>1.943913</td>\n",
       "      <td>3.612821</td>\n",
       "      <td>3.381087</td>\n",
       "      <td>3.167854</td>\n",
       "      <td>5.293002</td>\n",
       "      <td>3.07222</td>\n",
       "    </tr>\n",
       "    <tr>\n",
       "      <th>std</th>\n",
       "      <td>1.198724</td>\n",
       "      <td>1.068775</td>\n",
       "      <td>0.499512</td>\n",
       "      <td>1.595021</td>\n",
       "      <td>1.321055</td>\n",
       "      <td>1.464749</td>\n",
       "      <td>1.322134</td>\n",
       "      <td>1.529603</td>\n",
       "      <td>1.486731</td>\n",
       "      <td>1.353248</td>\n",
       "      <td>...</td>\n",
       "      <td>0.972008</td>\n",
       "      <td>0.920309</td>\n",
       "      <td>0.986736</td>\n",
       "      <td>0.727137</td>\n",
       "      <td>1.459654</td>\n",
       "      <td>0.973967</td>\n",
       "      <td>1.111598</td>\n",
       "      <td>1.002376</td>\n",
       "      <td>2.303739</td>\n",
       "      <td>1.36298</td>\n",
       "    </tr>\n",
       "    <tr>\n",
       "      <th>min</th>\n",
       "      <td>-1.000000</td>\n",
       "      <td>1.000000</td>\n",
       "      <td>1.000000</td>\n",
       "      <td>1.000000</td>\n",
       "      <td>1.000000</td>\n",
       "      <td>1.000000</td>\n",
       "      <td>1.000000</td>\n",
       "      <td>1.000000</td>\n",
       "      <td>1.000000</td>\n",
       "      <td>1.000000</td>\n",
       "      <td>...</td>\n",
       "      <td>0.000000</td>\n",
       "      <td>0.000000</td>\n",
       "      <td>0.000000</td>\n",
       "      <td>0.000000</td>\n",
       "      <td>1.000000</td>\n",
       "      <td>1.000000</td>\n",
       "      <td>1.000000</td>\n",
       "      <td>1.000000</td>\n",
       "      <td>0.000000</td>\n",
       "      <td>1.00000</td>\n",
       "    </tr>\n",
       "    <tr>\n",
       "      <th>25%</th>\n",
       "      <td>-1.000000</td>\n",
       "      <td>2.000000</td>\n",
       "      <td>1.000000</td>\n",
       "      <td>2.000000</td>\n",
       "      <td>2.000000</td>\n",
       "      <td>1.000000</td>\n",
       "      <td>3.000000</td>\n",
       "      <td>2.000000</td>\n",
       "      <td>2.000000</td>\n",
       "      <td>2.000000</td>\n",
       "      <td>...</td>\n",
       "      <td>1.000000</td>\n",
       "      <td>2.000000</td>\n",
       "      <td>1.000000</td>\n",
       "      <td>0.000000</td>\n",
       "      <td>1.000000</td>\n",
       "      <td>3.000000</td>\n",
       "      <td>3.000000</td>\n",
       "      <td>3.000000</td>\n",
       "      <td>4.000000</td>\n",
       "      <td>2.00000</td>\n",
       "    </tr>\n",
       "    <tr>\n",
       "      <th>50%</th>\n",
       "      <td>-1.000000</td>\n",
       "      <td>3.000000</td>\n",
       "      <td>2.000000</td>\n",
       "      <td>4.000000</td>\n",
       "      <td>3.000000</td>\n",
       "      <td>3.000000</td>\n",
       "      <td>3.000000</td>\n",
       "      <td>3.000000</td>\n",
       "      <td>3.000000</td>\n",
       "      <td>3.000000</td>\n",
       "      <td>...</td>\n",
       "      <td>2.000000</td>\n",
       "      <td>3.000000</td>\n",
       "      <td>2.000000</td>\n",
       "      <td>1.000000</td>\n",
       "      <td>1.000000</td>\n",
       "      <td>4.000000</td>\n",
       "      <td>3.000000</td>\n",
       "      <td>3.000000</td>\n",
       "      <td>5.000000</td>\n",
       "      <td>3.00000</td>\n",
       "    </tr>\n",
       "    <tr>\n",
       "      <th>75%</th>\n",
       "      <td>-1.000000</td>\n",
       "      <td>4.000000</td>\n",
       "      <td>2.000000</td>\n",
       "      <td>5.000000</td>\n",
       "      <td>4.000000</td>\n",
       "      <td>4.000000</td>\n",
       "      <td>5.000000</td>\n",
       "      <td>5.000000</td>\n",
       "      <td>4.000000</td>\n",
       "      <td>4.000000</td>\n",
       "      <td>...</td>\n",
       "      <td>3.000000</td>\n",
       "      <td>3.000000</td>\n",
       "      <td>2.000000</td>\n",
       "      <td>1.000000</td>\n",
       "      <td>3.000000</td>\n",
       "      <td>4.000000</td>\n",
       "      <td>4.000000</td>\n",
       "      <td>4.000000</td>\n",
       "      <td>7.000000</td>\n",
       "      <td>4.00000</td>\n",
       "    </tr>\n",
       "    <tr>\n",
       "      <th>max</th>\n",
       "      <td>3.000000</td>\n",
       "      <td>9.000000</td>\n",
       "      <td>2.000000</td>\n",
       "      <td>6.000000</td>\n",
       "      <td>5.000000</td>\n",
       "      <td>5.000000</td>\n",
       "      <td>5.000000</td>\n",
       "      <td>5.000000</td>\n",
       "      <td>5.000000</td>\n",
       "      <td>5.000000</td>\n",
       "      <td>...</td>\n",
       "      <td>4.000000</td>\n",
       "      <td>4.000000</td>\n",
       "      <td>3.000000</td>\n",
       "      <td>2.000000</td>\n",
       "      <td>5.000000</td>\n",
       "      <td>5.000000</td>\n",
       "      <td>5.000000</td>\n",
       "      <td>9.000000</td>\n",
       "      <td>9.000000</td>\n",
       "      <td>9.00000</td>\n",
       "    </tr>\n",
       "  </tbody>\n",
       "</table>\n",
       "<p>8 rows × 81 columns</p>\n",
       "</div>"
      ],
      "text/plain": [
       "            AGER_TYP  ALTERSKATEGORIE_GROB      ANREDE_KZ  CJT_GESAMTTYP  \\\n",
       "count  891221.000000         891221.000000  891221.000000  886367.000000   \n",
       "mean       -0.358435              2.777398       1.522098       3.632838   \n",
       "std         1.198724              1.068775       0.499512       1.595021   \n",
       "min        -1.000000              1.000000       1.000000       1.000000   \n",
       "25%        -1.000000              2.000000       1.000000       2.000000   \n",
       "50%        -1.000000              3.000000       2.000000       4.000000   \n",
       "75%        -1.000000              4.000000       2.000000       5.000000   \n",
       "max         3.000000              9.000000       2.000000       6.000000   \n",
       "\n",
       "       FINANZ_MINIMALIST  FINANZ_SPARER  FINANZ_VORSORGER  FINANZ_ANLEGER  \\\n",
       "count      891221.000000  891221.000000     891221.000000   891221.000000   \n",
       "mean            3.074528       2.821039          3.401106        3.033328   \n",
       "std             1.321055       1.464749          1.322134        1.529603   \n",
       "min             1.000000       1.000000          1.000000        1.000000   \n",
       "25%             2.000000       1.000000          3.000000        2.000000   \n",
       "50%             3.000000       3.000000          3.000000        3.000000   \n",
       "75%             4.000000       4.000000          5.000000        5.000000   \n",
       "max             5.000000       5.000000          5.000000        5.000000   \n",
       "\n",
       "       FINANZ_UNAUFFAELLIGER  FINANZ_HAUSBAUER      ...          PLZ8_ANTG1  \\\n",
       "count          891221.000000     891221.000000      ...       774706.000000   \n",
       "mean                2.874167          3.075121      ...            2.253330   \n",
       "std                 1.486731          1.353248      ...            0.972008   \n",
       "min                 1.000000          1.000000      ...            0.000000   \n",
       "25%                 2.000000          2.000000      ...            1.000000   \n",
       "50%                 3.000000          3.000000      ...            2.000000   \n",
       "75%                 4.000000          4.000000      ...            3.000000   \n",
       "max                 5.000000          5.000000      ...            4.000000   \n",
       "\n",
       "          PLZ8_ANTG2     PLZ8_ANTG3     PLZ8_ANTG4    PLZ8_BAUMAX  \\\n",
       "count  774706.000000  774706.000000  774706.000000  774706.000000   \n",
       "mean        2.801858       1.595426       0.699166       1.943913   \n",
       "std         0.920309       0.986736       0.727137       1.459654   \n",
       "min         0.000000       0.000000       0.000000       1.000000   \n",
       "25%         2.000000       1.000000       0.000000       1.000000   \n",
       "50%         3.000000       2.000000       1.000000       1.000000   \n",
       "75%         3.000000       2.000000       1.000000       3.000000   \n",
       "max         4.000000       3.000000       2.000000       5.000000   \n",
       "\n",
       "            PLZ8_HHZ       PLZ8_GBZ         ARBEIT    ORTSGR_KLS9  \\\n",
       "count  774706.000000  774706.000000  794005.000000  794005.000000   \n",
       "mean        3.612821       3.381087       3.167854       5.293002   \n",
       "std         0.973967       1.111598       1.002376       2.303739   \n",
       "min         1.000000       1.000000       1.000000       0.000000   \n",
       "25%         3.000000       3.000000       3.000000       4.000000   \n",
       "50%         4.000000       3.000000       3.000000       5.000000   \n",
       "75%         4.000000       4.000000       4.000000       7.000000   \n",
       "max         5.000000       5.000000       9.000000       9.000000   \n",
       "\n",
       "           RELAT_AB  \n",
       "count  794005.00000  \n",
       "mean        3.07222  \n",
       "std         1.36298  \n",
       "min         1.00000  \n",
       "25%         2.00000  \n",
       "50%         3.00000  \n",
       "75%         4.00000  \n",
       "max         9.00000  \n",
       "\n",
       "[8 rows x 81 columns]"
      ]
     },
     "execution_count": 3,
     "metadata": {},
     "output_type": "execute_result"
    }
   ],
   "source": [
    "# Check the structure of the data after it's loaded (e.g. print the number of\n",
    "# rows and columns, print the first few rows).\n",
    "azdias.describe()"
   ]
  },
  {
   "cell_type": "code",
   "execution_count": 4,
   "metadata": {},
   "outputs": [
    {
     "data": {
      "text/plain": [
       "(891221, 85)"
      ]
     },
     "execution_count": 4,
     "metadata": {},
     "output_type": "execute_result"
    }
   ],
   "source": [
    "azdias.shape"
   ]
  },
  {
   "cell_type": "code",
   "execution_count": 5,
   "metadata": {},
   "outputs": [
    {
     "data": {
      "text/html": [
       "<div>\n",
       "<style scoped>\n",
       "    .dataframe tbody tr th:only-of-type {\n",
       "        vertical-align: middle;\n",
       "    }\n",
       "\n",
       "    .dataframe tbody tr th {\n",
       "        vertical-align: top;\n",
       "    }\n",
       "\n",
       "    .dataframe thead th {\n",
       "        text-align: right;\n",
       "    }\n",
       "</style>\n",
       "<table border=\"1\" class=\"dataframe\">\n",
       "  <thead>\n",
       "    <tr style=\"text-align: right;\">\n",
       "      <th></th>\n",
       "      <th>AGER_TYP</th>\n",
       "      <th>ALTERSKATEGORIE_GROB</th>\n",
       "      <th>ANREDE_KZ</th>\n",
       "      <th>CJT_GESAMTTYP</th>\n",
       "      <th>FINANZ_MINIMALIST</th>\n",
       "      <th>FINANZ_SPARER</th>\n",
       "      <th>FINANZ_VORSORGER</th>\n",
       "      <th>FINANZ_ANLEGER</th>\n",
       "      <th>FINANZ_UNAUFFAELLIGER</th>\n",
       "      <th>FINANZ_HAUSBAUER</th>\n",
       "      <th>...</th>\n",
       "      <th>PLZ8_ANTG1</th>\n",
       "      <th>PLZ8_ANTG2</th>\n",
       "      <th>PLZ8_ANTG3</th>\n",
       "      <th>PLZ8_ANTG4</th>\n",
       "      <th>PLZ8_BAUMAX</th>\n",
       "      <th>PLZ8_HHZ</th>\n",
       "      <th>PLZ8_GBZ</th>\n",
       "      <th>ARBEIT</th>\n",
       "      <th>ORTSGR_KLS9</th>\n",
       "      <th>RELAT_AB</th>\n",
       "    </tr>\n",
       "  </thead>\n",
       "  <tbody>\n",
       "    <tr>\n",
       "      <th>0</th>\n",
       "      <td>-1</td>\n",
       "      <td>2</td>\n",
       "      <td>1</td>\n",
       "      <td>2.0</td>\n",
       "      <td>3</td>\n",
       "      <td>4</td>\n",
       "      <td>3</td>\n",
       "      <td>5</td>\n",
       "      <td>5</td>\n",
       "      <td>3</td>\n",
       "      <td>...</td>\n",
       "      <td>NaN</td>\n",
       "      <td>NaN</td>\n",
       "      <td>NaN</td>\n",
       "      <td>NaN</td>\n",
       "      <td>NaN</td>\n",
       "      <td>NaN</td>\n",
       "      <td>NaN</td>\n",
       "      <td>NaN</td>\n",
       "      <td>NaN</td>\n",
       "      <td>NaN</td>\n",
       "    </tr>\n",
       "    <tr>\n",
       "      <th>1</th>\n",
       "      <td>-1</td>\n",
       "      <td>1</td>\n",
       "      <td>2</td>\n",
       "      <td>5.0</td>\n",
       "      <td>1</td>\n",
       "      <td>5</td>\n",
       "      <td>2</td>\n",
       "      <td>5</td>\n",
       "      <td>4</td>\n",
       "      <td>5</td>\n",
       "      <td>...</td>\n",
       "      <td>2.0</td>\n",
       "      <td>3.0</td>\n",
       "      <td>2.0</td>\n",
       "      <td>1.0</td>\n",
       "      <td>1.0</td>\n",
       "      <td>5.0</td>\n",
       "      <td>4.0</td>\n",
       "      <td>3.0</td>\n",
       "      <td>5.0</td>\n",
       "      <td>4.0</td>\n",
       "    </tr>\n",
       "    <tr>\n",
       "      <th>2</th>\n",
       "      <td>-1</td>\n",
       "      <td>3</td>\n",
       "      <td>2</td>\n",
       "      <td>3.0</td>\n",
       "      <td>1</td>\n",
       "      <td>4</td>\n",
       "      <td>1</td>\n",
       "      <td>2</td>\n",
       "      <td>3</td>\n",
       "      <td>5</td>\n",
       "      <td>...</td>\n",
       "      <td>3.0</td>\n",
       "      <td>3.0</td>\n",
       "      <td>1.0</td>\n",
       "      <td>0.0</td>\n",
       "      <td>1.0</td>\n",
       "      <td>4.0</td>\n",
       "      <td>4.0</td>\n",
       "      <td>3.0</td>\n",
       "      <td>5.0</td>\n",
       "      <td>2.0</td>\n",
       "    </tr>\n",
       "    <tr>\n",
       "      <th>3</th>\n",
       "      <td>2</td>\n",
       "      <td>4</td>\n",
       "      <td>2</td>\n",
       "      <td>2.0</td>\n",
       "      <td>4</td>\n",
       "      <td>2</td>\n",
       "      <td>5</td>\n",
       "      <td>2</td>\n",
       "      <td>1</td>\n",
       "      <td>2</td>\n",
       "      <td>...</td>\n",
       "      <td>2.0</td>\n",
       "      <td>2.0</td>\n",
       "      <td>2.0</td>\n",
       "      <td>0.0</td>\n",
       "      <td>1.0</td>\n",
       "      <td>3.0</td>\n",
       "      <td>4.0</td>\n",
       "      <td>2.0</td>\n",
       "      <td>3.0</td>\n",
       "      <td>3.0</td>\n",
       "    </tr>\n",
       "    <tr>\n",
       "      <th>4</th>\n",
       "      <td>-1</td>\n",
       "      <td>3</td>\n",
       "      <td>1</td>\n",
       "      <td>5.0</td>\n",
       "      <td>4</td>\n",
       "      <td>3</td>\n",
       "      <td>4</td>\n",
       "      <td>1</td>\n",
       "      <td>3</td>\n",
       "      <td>2</td>\n",
       "      <td>...</td>\n",
       "      <td>2.0</td>\n",
       "      <td>4.0</td>\n",
       "      <td>2.0</td>\n",
       "      <td>1.0</td>\n",
       "      <td>2.0</td>\n",
       "      <td>3.0</td>\n",
       "      <td>3.0</td>\n",
       "      <td>4.0</td>\n",
       "      <td>6.0</td>\n",
       "      <td>5.0</td>\n",
       "    </tr>\n",
       "  </tbody>\n",
       "</table>\n",
       "<p>5 rows × 85 columns</p>\n",
       "</div>"
      ],
      "text/plain": [
       "   AGER_TYP  ALTERSKATEGORIE_GROB  ANREDE_KZ  CJT_GESAMTTYP  \\\n",
       "0        -1                     2          1            2.0   \n",
       "1        -1                     1          2            5.0   \n",
       "2        -1                     3          2            3.0   \n",
       "3         2                     4          2            2.0   \n",
       "4        -1                     3          1            5.0   \n",
       "\n",
       "   FINANZ_MINIMALIST  FINANZ_SPARER  FINANZ_VORSORGER  FINANZ_ANLEGER  \\\n",
       "0                  3              4                 3               5   \n",
       "1                  1              5                 2               5   \n",
       "2                  1              4                 1               2   \n",
       "3                  4              2                 5               2   \n",
       "4                  4              3                 4               1   \n",
       "\n",
       "   FINANZ_UNAUFFAELLIGER  FINANZ_HAUSBAUER    ...     PLZ8_ANTG1  PLZ8_ANTG2  \\\n",
       "0                      5                 3    ...            NaN         NaN   \n",
       "1                      4                 5    ...            2.0         3.0   \n",
       "2                      3                 5    ...            3.0         3.0   \n",
       "3                      1                 2    ...            2.0         2.0   \n",
       "4                      3                 2    ...            2.0         4.0   \n",
       "\n",
       "   PLZ8_ANTG3  PLZ8_ANTG4  PLZ8_BAUMAX  PLZ8_HHZ  PLZ8_GBZ  ARBEIT  \\\n",
       "0         NaN         NaN          NaN       NaN       NaN     NaN   \n",
       "1         2.0         1.0          1.0       5.0       4.0     3.0   \n",
       "2         1.0         0.0          1.0       4.0       4.0     3.0   \n",
       "3         2.0         0.0          1.0       3.0       4.0     2.0   \n",
       "4         2.0         1.0          2.0       3.0       3.0     4.0   \n",
       "\n",
       "   ORTSGR_KLS9  RELAT_AB  \n",
       "0          NaN       NaN  \n",
       "1          5.0       4.0  \n",
       "2          5.0       2.0  \n",
       "3          3.0       3.0  \n",
       "4          6.0       5.0  \n",
       "\n",
       "[5 rows x 85 columns]"
      ]
     },
     "execution_count": 5,
     "metadata": {},
     "output_type": "execute_result"
    }
   ],
   "source": [
    "azdias.head()"
   ]
  },
  {
   "cell_type": "code",
   "execution_count": 6,
   "metadata": {},
   "outputs": [
    {
     "data": {
      "text/html": [
       "<div>\n",
       "<style scoped>\n",
       "    .dataframe tbody tr th:only-of-type {\n",
       "        vertical-align: middle;\n",
       "    }\n",
       "\n",
       "    .dataframe tbody tr th {\n",
       "        vertical-align: top;\n",
       "    }\n",
       "\n",
       "    .dataframe thead th {\n",
       "        text-align: right;\n",
       "    }\n",
       "</style>\n",
       "<table border=\"1\" class=\"dataframe\">\n",
       "  <thead>\n",
       "    <tr style=\"text-align: right;\">\n",
       "      <th></th>\n",
       "      <th>attribute</th>\n",
       "      <th>information_level</th>\n",
       "      <th>type</th>\n",
       "      <th>missing_or_unknown</th>\n",
       "    </tr>\n",
       "  </thead>\n",
       "  <tbody>\n",
       "    <tr>\n",
       "      <th>count</th>\n",
       "      <td>85</td>\n",
       "      <td>85</td>\n",
       "      <td>85</td>\n",
       "      <td>85</td>\n",
       "    </tr>\n",
       "    <tr>\n",
       "      <th>unique</th>\n",
       "      <td>85</td>\n",
       "      <td>9</td>\n",
       "      <td>5</td>\n",
       "      <td>9</td>\n",
       "    </tr>\n",
       "    <tr>\n",
       "      <th>top</th>\n",
       "      <td>RELAT_AB</td>\n",
       "      <td>person</td>\n",
       "      <td>ordinal</td>\n",
       "      <td>[-1]</td>\n",
       "    </tr>\n",
       "    <tr>\n",
       "      <th>freq</th>\n",
       "      <td>1</td>\n",
       "      <td>43</td>\n",
       "      <td>49</td>\n",
       "      <td>26</td>\n",
       "    </tr>\n",
       "  </tbody>\n",
       "</table>\n",
       "</div>"
      ],
      "text/plain": [
       "       attribute information_level     type missing_or_unknown\n",
       "count         85                85       85                 85\n",
       "unique        85                 9        5                  9\n",
       "top     RELAT_AB            person  ordinal               [-1]\n",
       "freq           1                43       49                 26"
      ]
     },
     "execution_count": 6,
     "metadata": {},
     "output_type": "execute_result"
    }
   ],
   "source": [
    "feat_info.describe()"
   ]
  },
  {
   "cell_type": "code",
   "execution_count": 7,
   "metadata": {},
   "outputs": [
    {
     "data": {
      "text/html": [
       "<div>\n",
       "<style scoped>\n",
       "    .dataframe tbody tr th:only-of-type {\n",
       "        vertical-align: middle;\n",
       "    }\n",
       "\n",
       "    .dataframe tbody tr th {\n",
       "        vertical-align: top;\n",
       "    }\n",
       "\n",
       "    .dataframe thead th {\n",
       "        text-align: right;\n",
       "    }\n",
       "</style>\n",
       "<table border=\"1\" class=\"dataframe\">\n",
       "  <thead>\n",
       "    <tr style=\"text-align: right;\">\n",
       "      <th></th>\n",
       "      <th>attribute</th>\n",
       "      <th>information_level</th>\n",
       "      <th>type</th>\n",
       "      <th>missing_or_unknown</th>\n",
       "    </tr>\n",
       "  </thead>\n",
       "  <tbody>\n",
       "    <tr>\n",
       "      <th>0</th>\n",
       "      <td>AGER_TYP</td>\n",
       "      <td>person</td>\n",
       "      <td>categorical</td>\n",
       "      <td>[-1,0]</td>\n",
       "    </tr>\n",
       "    <tr>\n",
       "      <th>1</th>\n",
       "      <td>ALTERSKATEGORIE_GROB</td>\n",
       "      <td>person</td>\n",
       "      <td>ordinal</td>\n",
       "      <td>[-1,0,9]</td>\n",
       "    </tr>\n",
       "    <tr>\n",
       "      <th>2</th>\n",
       "      <td>ANREDE_KZ</td>\n",
       "      <td>person</td>\n",
       "      <td>categorical</td>\n",
       "      <td>[-1,0]</td>\n",
       "    </tr>\n",
       "    <tr>\n",
       "      <th>3</th>\n",
       "      <td>CJT_GESAMTTYP</td>\n",
       "      <td>person</td>\n",
       "      <td>categorical</td>\n",
       "      <td>[0]</td>\n",
       "    </tr>\n",
       "    <tr>\n",
       "      <th>4</th>\n",
       "      <td>FINANZ_MINIMALIST</td>\n",
       "      <td>person</td>\n",
       "      <td>ordinal</td>\n",
       "      <td>[-1]</td>\n",
       "    </tr>\n",
       "  </tbody>\n",
       "</table>\n",
       "</div>"
      ],
      "text/plain": [
       "              attribute information_level         type missing_or_unknown\n",
       "0              AGER_TYP            person  categorical             [-1,0]\n",
       "1  ALTERSKATEGORIE_GROB            person      ordinal           [-1,0,9]\n",
       "2             ANREDE_KZ            person  categorical             [-1,0]\n",
       "3         CJT_GESAMTTYP            person  categorical                [0]\n",
       "4     FINANZ_MINIMALIST            person      ordinal               [-1]"
      ]
     },
     "execution_count": 7,
     "metadata": {},
     "output_type": "execute_result"
    }
   ],
   "source": [
    "feat_info.head()"
   ]
  },
  {
   "cell_type": "code",
   "execution_count": 8,
   "metadata": {},
   "outputs": [
    {
     "data": {
      "text/plain": [
       "(85, 4)"
      ]
     },
     "execution_count": 8,
     "metadata": {},
     "output_type": "execute_result"
    }
   ],
   "source": [
    "feat_info.shape"
   ]
  },
  {
   "cell_type": "markdown",
   "metadata": {},
   "source": [
    "> **Tip**: Add additional cells to keep everything in reasonably-sized chunks! Keyboard shortcut `esc --> a` (press escape to enter command mode, then press the 'A' key) adds a new cell before the active cell, and `esc --> b` adds a new cell after the active cell. If you need to convert an active cell to a markdown cell, use `esc --> m` and to convert to a code cell, use `esc --> y`. \n",
    "\n",
    "## Step 1: Preprocessing\n",
    "\n",
    "### Step 1.1: Assess Missing Data\n",
    "\n",
    "The feature summary file contains a summary of properties for each demographics data column. You will use this file to help you make cleaning decisions during this stage of the project. First of all, you should assess the demographics data in terms of missing data. Pay attention to the following points as you perform your analysis, and take notes on what you observe. Make sure that you fill in the **Discussion** cell with your findings and decisions at the end of each step that has one!\n",
    "\n",
    "#### Step 1.1.1: Convert Missing Value Codes to NaNs\n",
    "The fourth column of the feature attributes summary (loaded in above as `feat_info`) documents the codes from the data dictionary that indicate missing or unknown data. While the file encodes this as a list (e.g. `[-1,0]`), this will get read in as a string object. You'll need to do a little bit of parsing to make use of it to identify and clean the data. Convert data that matches a 'missing' or 'unknown' value code into a numpy NaN value. You might want to see how much data takes on a 'missing' or 'unknown' code, and how much data is naturally missing, as a point of interest.\n",
    "\n",
    "**As one more reminder, you are encouraged to add additional cells to break up your analysis into manageable chunks.**"
   ]
  },
  {
   "cell_type": "code",
   "execution_count": 9,
   "metadata": {},
   "outputs": [],
   "source": [
    "# Identify missing or unknown data values and convert them to NaNs.\n",
    "\n",
    "feat_info_values = feat_info.values\n",
    "\n",
    "for i in range(feat_info_values.shape[0]):\n",
    "    \n",
    "    attribute = feat_info_values[i,0]\n",
    "    missing_or_unknown = feat_info_values[i,3]\n",
    "    \n",
    "    if 'XX' in missing_or_unknown:\n",
    "        missing_or_unknown = missing_or_unknown.replace(\"XX\", \"'XX'\")\n",
    "    elif 'X' in missing_or_unknown:\n",
    "        missing_or_unknown = missing_or_unknown.replace(\"X\", \"'X'\")\n",
    "        \n",
    "    m_or_unk_list = ast.literal_eval(missing_or_unknown)\n",
    "    mask = azdias[attribute].isin(m_or_unk_list)\n",
    "    azdias.loc[mask, attribute] = azdias.loc[mask, attribute].apply(lambda x: np.nan)\n"
   ]
  },
  {
   "cell_type": "code",
   "execution_count": 10,
   "metadata": {},
   "outputs": [
    {
     "data": {
      "text/html": [
       "<div>\n",
       "<style scoped>\n",
       "    .dataframe tbody tr th:only-of-type {\n",
       "        vertical-align: middle;\n",
       "    }\n",
       "\n",
       "    .dataframe tbody tr th {\n",
       "        vertical-align: top;\n",
       "    }\n",
       "\n",
       "    .dataframe thead th {\n",
       "        text-align: right;\n",
       "    }\n",
       "</style>\n",
       "<table border=\"1\" class=\"dataframe\">\n",
       "  <thead>\n",
       "    <tr style=\"text-align: right;\">\n",
       "      <th></th>\n",
       "      <th>AGER_TYP</th>\n",
       "      <th>ALTERSKATEGORIE_GROB</th>\n",
       "      <th>ANREDE_KZ</th>\n",
       "      <th>CJT_GESAMTTYP</th>\n",
       "      <th>FINANZ_MINIMALIST</th>\n",
       "      <th>FINANZ_SPARER</th>\n",
       "      <th>FINANZ_VORSORGER</th>\n",
       "      <th>FINANZ_ANLEGER</th>\n",
       "      <th>FINANZ_UNAUFFAELLIGER</th>\n",
       "      <th>FINANZ_HAUSBAUER</th>\n",
       "      <th>...</th>\n",
       "      <th>PLZ8_ANTG1</th>\n",
       "      <th>PLZ8_ANTG2</th>\n",
       "      <th>PLZ8_ANTG3</th>\n",
       "      <th>PLZ8_ANTG4</th>\n",
       "      <th>PLZ8_BAUMAX</th>\n",
       "      <th>PLZ8_HHZ</th>\n",
       "      <th>PLZ8_GBZ</th>\n",
       "      <th>ARBEIT</th>\n",
       "      <th>ORTSGR_KLS9</th>\n",
       "      <th>RELAT_AB</th>\n",
       "    </tr>\n",
       "  </thead>\n",
       "  <tbody>\n",
       "    <tr>\n",
       "      <th>count</th>\n",
       "      <td>205378.000000</td>\n",
       "      <td>888340.000000</td>\n",
       "      <td>891221.000000</td>\n",
       "      <td>886367.000000</td>\n",
       "      <td>891221.000000</td>\n",
       "      <td>891221.000000</td>\n",
       "      <td>891221.000000</td>\n",
       "      <td>891221.000000</td>\n",
       "      <td>891221.000000</td>\n",
       "      <td>891221.000000</td>\n",
       "      <td>...</td>\n",
       "      <td>774706.000000</td>\n",
       "      <td>774706.000000</td>\n",
       "      <td>774706.000000</td>\n",
       "      <td>774706.000000</td>\n",
       "      <td>774706.000000</td>\n",
       "      <td>774706.000000</td>\n",
       "      <td>774706.000000</td>\n",
       "      <td>793846.000000</td>\n",
       "      <td>793947.000000</td>\n",
       "      <td>793846.000000</td>\n",
       "    </tr>\n",
       "    <tr>\n",
       "      <th>mean</th>\n",
       "      <td>1.743410</td>\n",
       "      <td>2.757217</td>\n",
       "      <td>1.522098</td>\n",
       "      <td>3.632838</td>\n",
       "      <td>3.074528</td>\n",
       "      <td>2.821039</td>\n",
       "      <td>3.401106</td>\n",
       "      <td>3.033328</td>\n",
       "      <td>2.874167</td>\n",
       "      <td>3.075121</td>\n",
       "      <td>...</td>\n",
       "      <td>2.253330</td>\n",
       "      <td>2.801858</td>\n",
       "      <td>1.595426</td>\n",
       "      <td>0.699166</td>\n",
       "      <td>1.943913</td>\n",
       "      <td>3.612821</td>\n",
       "      <td>3.381087</td>\n",
       "      <td>3.166686</td>\n",
       "      <td>5.293389</td>\n",
       "      <td>3.071033</td>\n",
       "    </tr>\n",
       "    <tr>\n",
       "      <th>std</th>\n",
       "      <td>0.674312</td>\n",
       "      <td>1.009951</td>\n",
       "      <td>0.499512</td>\n",
       "      <td>1.595021</td>\n",
       "      <td>1.321055</td>\n",
       "      <td>1.464749</td>\n",
       "      <td>1.322134</td>\n",
       "      <td>1.529603</td>\n",
       "      <td>1.486731</td>\n",
       "      <td>1.353248</td>\n",
       "      <td>...</td>\n",
       "      <td>0.972008</td>\n",
       "      <td>0.920309</td>\n",
       "      <td>0.986736</td>\n",
       "      <td>0.727137</td>\n",
       "      <td>1.459654</td>\n",
       "      <td>0.973967</td>\n",
       "      <td>1.111598</td>\n",
       "      <td>0.999072</td>\n",
       "      <td>2.303379</td>\n",
       "      <td>1.360532</td>\n",
       "    </tr>\n",
       "    <tr>\n",
       "      <th>min</th>\n",
       "      <td>1.000000</td>\n",
       "      <td>1.000000</td>\n",
       "      <td>1.000000</td>\n",
       "      <td>1.000000</td>\n",
       "      <td>1.000000</td>\n",
       "      <td>1.000000</td>\n",
       "      <td>1.000000</td>\n",
       "      <td>1.000000</td>\n",
       "      <td>1.000000</td>\n",
       "      <td>1.000000</td>\n",
       "      <td>...</td>\n",
       "      <td>0.000000</td>\n",
       "      <td>0.000000</td>\n",
       "      <td>0.000000</td>\n",
       "      <td>0.000000</td>\n",
       "      <td>1.000000</td>\n",
       "      <td>1.000000</td>\n",
       "      <td>1.000000</td>\n",
       "      <td>1.000000</td>\n",
       "      <td>1.000000</td>\n",
       "      <td>1.000000</td>\n",
       "    </tr>\n",
       "    <tr>\n",
       "      <th>25%</th>\n",
       "      <td>1.000000</td>\n",
       "      <td>2.000000</td>\n",
       "      <td>1.000000</td>\n",
       "      <td>2.000000</td>\n",
       "      <td>2.000000</td>\n",
       "      <td>1.000000</td>\n",
       "      <td>3.000000</td>\n",
       "      <td>2.000000</td>\n",
       "      <td>2.000000</td>\n",
       "      <td>2.000000</td>\n",
       "      <td>...</td>\n",
       "      <td>1.000000</td>\n",
       "      <td>2.000000</td>\n",
       "      <td>1.000000</td>\n",
       "      <td>0.000000</td>\n",
       "      <td>1.000000</td>\n",
       "      <td>3.000000</td>\n",
       "      <td>3.000000</td>\n",
       "      <td>3.000000</td>\n",
       "      <td>4.000000</td>\n",
       "      <td>2.000000</td>\n",
       "    </tr>\n",
       "    <tr>\n",
       "      <th>50%</th>\n",
       "      <td>2.000000</td>\n",
       "      <td>3.000000</td>\n",
       "      <td>2.000000</td>\n",
       "      <td>4.000000</td>\n",
       "      <td>3.000000</td>\n",
       "      <td>3.000000</td>\n",
       "      <td>3.000000</td>\n",
       "      <td>3.000000</td>\n",
       "      <td>3.000000</td>\n",
       "      <td>3.000000</td>\n",
       "      <td>...</td>\n",
       "      <td>2.000000</td>\n",
       "      <td>3.000000</td>\n",
       "      <td>2.000000</td>\n",
       "      <td>1.000000</td>\n",
       "      <td>1.000000</td>\n",
       "      <td>4.000000</td>\n",
       "      <td>3.000000</td>\n",
       "      <td>3.000000</td>\n",
       "      <td>5.000000</td>\n",
       "      <td>3.000000</td>\n",
       "    </tr>\n",
       "    <tr>\n",
       "      <th>75%</th>\n",
       "      <td>2.000000</td>\n",
       "      <td>4.000000</td>\n",
       "      <td>2.000000</td>\n",
       "      <td>5.000000</td>\n",
       "      <td>4.000000</td>\n",
       "      <td>4.000000</td>\n",
       "      <td>5.000000</td>\n",
       "      <td>5.000000</td>\n",
       "      <td>4.000000</td>\n",
       "      <td>4.000000</td>\n",
       "      <td>...</td>\n",
       "      <td>3.000000</td>\n",
       "      <td>3.000000</td>\n",
       "      <td>2.000000</td>\n",
       "      <td>1.000000</td>\n",
       "      <td>3.000000</td>\n",
       "      <td>4.000000</td>\n",
       "      <td>4.000000</td>\n",
       "      <td>4.000000</td>\n",
       "      <td>7.000000</td>\n",
       "      <td>4.000000</td>\n",
       "    </tr>\n",
       "    <tr>\n",
       "      <th>max</th>\n",
       "      <td>3.000000</td>\n",
       "      <td>4.000000</td>\n",
       "      <td>2.000000</td>\n",
       "      <td>6.000000</td>\n",
       "      <td>5.000000</td>\n",
       "      <td>5.000000</td>\n",
       "      <td>5.000000</td>\n",
       "      <td>5.000000</td>\n",
       "      <td>5.000000</td>\n",
       "      <td>5.000000</td>\n",
       "      <td>...</td>\n",
       "      <td>4.000000</td>\n",
       "      <td>4.000000</td>\n",
       "      <td>3.000000</td>\n",
       "      <td>2.000000</td>\n",
       "      <td>5.000000</td>\n",
       "      <td>5.000000</td>\n",
       "      <td>5.000000</td>\n",
       "      <td>5.000000</td>\n",
       "      <td>9.000000</td>\n",
       "      <td>5.000000</td>\n",
       "    </tr>\n",
       "  </tbody>\n",
       "</table>\n",
       "<p>8 rows × 81 columns</p>\n",
       "</div>"
      ],
      "text/plain": [
       "            AGER_TYP  ALTERSKATEGORIE_GROB      ANREDE_KZ  CJT_GESAMTTYP  \\\n",
       "count  205378.000000         888340.000000  891221.000000  886367.000000   \n",
       "mean        1.743410              2.757217       1.522098       3.632838   \n",
       "std         0.674312              1.009951       0.499512       1.595021   \n",
       "min         1.000000              1.000000       1.000000       1.000000   \n",
       "25%         1.000000              2.000000       1.000000       2.000000   \n",
       "50%         2.000000              3.000000       2.000000       4.000000   \n",
       "75%         2.000000              4.000000       2.000000       5.000000   \n",
       "max         3.000000              4.000000       2.000000       6.000000   \n",
       "\n",
       "       FINANZ_MINIMALIST  FINANZ_SPARER  FINANZ_VORSORGER  FINANZ_ANLEGER  \\\n",
       "count      891221.000000  891221.000000     891221.000000   891221.000000   \n",
       "mean            3.074528       2.821039          3.401106        3.033328   \n",
       "std             1.321055       1.464749          1.322134        1.529603   \n",
       "min             1.000000       1.000000          1.000000        1.000000   \n",
       "25%             2.000000       1.000000          3.000000        2.000000   \n",
       "50%             3.000000       3.000000          3.000000        3.000000   \n",
       "75%             4.000000       4.000000          5.000000        5.000000   \n",
       "max             5.000000       5.000000          5.000000        5.000000   \n",
       "\n",
       "       FINANZ_UNAUFFAELLIGER  FINANZ_HAUSBAUER      ...           PLZ8_ANTG1  \\\n",
       "count          891221.000000     891221.000000      ...        774706.000000   \n",
       "mean                2.874167          3.075121      ...             2.253330   \n",
       "std                 1.486731          1.353248      ...             0.972008   \n",
       "min                 1.000000          1.000000      ...             0.000000   \n",
       "25%                 2.000000          2.000000      ...             1.000000   \n",
       "50%                 3.000000          3.000000      ...             2.000000   \n",
       "75%                 4.000000          4.000000      ...             3.000000   \n",
       "max                 5.000000          5.000000      ...             4.000000   \n",
       "\n",
       "          PLZ8_ANTG2     PLZ8_ANTG3     PLZ8_ANTG4    PLZ8_BAUMAX  \\\n",
       "count  774706.000000  774706.000000  774706.000000  774706.000000   \n",
       "mean        2.801858       1.595426       0.699166       1.943913   \n",
       "std         0.920309       0.986736       0.727137       1.459654   \n",
       "min         0.000000       0.000000       0.000000       1.000000   \n",
       "25%         2.000000       1.000000       0.000000       1.000000   \n",
       "50%         3.000000       2.000000       1.000000       1.000000   \n",
       "75%         3.000000       2.000000       1.000000       3.000000   \n",
       "max         4.000000       3.000000       2.000000       5.000000   \n",
       "\n",
       "            PLZ8_HHZ       PLZ8_GBZ         ARBEIT    ORTSGR_KLS9  \\\n",
       "count  774706.000000  774706.000000  793846.000000  793947.000000   \n",
       "mean        3.612821       3.381087       3.166686       5.293389   \n",
       "std         0.973967       1.111598       0.999072       2.303379   \n",
       "min         1.000000       1.000000       1.000000       1.000000   \n",
       "25%         3.000000       3.000000       3.000000       4.000000   \n",
       "50%         4.000000       3.000000       3.000000       5.000000   \n",
       "75%         4.000000       4.000000       4.000000       7.000000   \n",
       "max         5.000000       5.000000       5.000000       9.000000   \n",
       "\n",
       "            RELAT_AB  \n",
       "count  793846.000000  \n",
       "mean        3.071033  \n",
       "std         1.360532  \n",
       "min         1.000000  \n",
       "25%         2.000000  \n",
       "50%         3.000000  \n",
       "75%         4.000000  \n",
       "max         5.000000  \n",
       "\n",
       "[8 rows x 81 columns]"
      ]
     },
     "execution_count": 10,
     "metadata": {},
     "output_type": "execute_result"
    }
   ],
   "source": [
    "azdias.describe()"
   ]
  },
  {
   "cell_type": "code",
   "execution_count": 11,
   "metadata": {},
   "outputs": [
    {
     "data": {
      "text/html": [
       "<div>\n",
       "<style scoped>\n",
       "    .dataframe tbody tr th:only-of-type {\n",
       "        vertical-align: middle;\n",
       "    }\n",
       "\n",
       "    .dataframe tbody tr th {\n",
       "        vertical-align: top;\n",
       "    }\n",
       "\n",
       "    .dataframe thead th {\n",
       "        text-align: right;\n",
       "    }\n",
       "</style>\n",
       "<table border=\"1\" class=\"dataframe\">\n",
       "  <thead>\n",
       "    <tr style=\"text-align: right;\">\n",
       "      <th></th>\n",
       "      <th>AGER_TYP</th>\n",
       "      <th>ALTERSKATEGORIE_GROB</th>\n",
       "      <th>ANREDE_KZ</th>\n",
       "      <th>CJT_GESAMTTYP</th>\n",
       "      <th>FINANZ_MINIMALIST</th>\n",
       "      <th>FINANZ_SPARER</th>\n",
       "      <th>FINANZ_VORSORGER</th>\n",
       "      <th>FINANZ_ANLEGER</th>\n",
       "      <th>FINANZ_UNAUFFAELLIGER</th>\n",
       "      <th>FINANZ_HAUSBAUER</th>\n",
       "      <th>...</th>\n",
       "      <th>PLZ8_ANTG1</th>\n",
       "      <th>PLZ8_ANTG2</th>\n",
       "      <th>PLZ8_ANTG3</th>\n",
       "      <th>PLZ8_ANTG4</th>\n",
       "      <th>PLZ8_BAUMAX</th>\n",
       "      <th>PLZ8_HHZ</th>\n",
       "      <th>PLZ8_GBZ</th>\n",
       "      <th>ARBEIT</th>\n",
       "      <th>ORTSGR_KLS9</th>\n",
       "      <th>RELAT_AB</th>\n",
       "    </tr>\n",
       "  </thead>\n",
       "  <tbody>\n",
       "    <tr>\n",
       "      <th>0</th>\n",
       "      <td>NaN</td>\n",
       "      <td>2.0</td>\n",
       "      <td>1</td>\n",
       "      <td>2.0</td>\n",
       "      <td>3</td>\n",
       "      <td>4</td>\n",
       "      <td>3</td>\n",
       "      <td>5</td>\n",
       "      <td>5</td>\n",
       "      <td>3</td>\n",
       "      <td>...</td>\n",
       "      <td>NaN</td>\n",
       "      <td>NaN</td>\n",
       "      <td>NaN</td>\n",
       "      <td>NaN</td>\n",
       "      <td>NaN</td>\n",
       "      <td>NaN</td>\n",
       "      <td>NaN</td>\n",
       "      <td>NaN</td>\n",
       "      <td>NaN</td>\n",
       "      <td>NaN</td>\n",
       "    </tr>\n",
       "    <tr>\n",
       "      <th>1</th>\n",
       "      <td>NaN</td>\n",
       "      <td>1.0</td>\n",
       "      <td>2</td>\n",
       "      <td>5.0</td>\n",
       "      <td>1</td>\n",
       "      <td>5</td>\n",
       "      <td>2</td>\n",
       "      <td>5</td>\n",
       "      <td>4</td>\n",
       "      <td>5</td>\n",
       "      <td>...</td>\n",
       "      <td>2.0</td>\n",
       "      <td>3.0</td>\n",
       "      <td>2.0</td>\n",
       "      <td>1.0</td>\n",
       "      <td>1.0</td>\n",
       "      <td>5.0</td>\n",
       "      <td>4.0</td>\n",
       "      <td>3.0</td>\n",
       "      <td>5.0</td>\n",
       "      <td>4.0</td>\n",
       "    </tr>\n",
       "    <tr>\n",
       "      <th>2</th>\n",
       "      <td>NaN</td>\n",
       "      <td>3.0</td>\n",
       "      <td>2</td>\n",
       "      <td>3.0</td>\n",
       "      <td>1</td>\n",
       "      <td>4</td>\n",
       "      <td>1</td>\n",
       "      <td>2</td>\n",
       "      <td>3</td>\n",
       "      <td>5</td>\n",
       "      <td>...</td>\n",
       "      <td>3.0</td>\n",
       "      <td>3.0</td>\n",
       "      <td>1.0</td>\n",
       "      <td>0.0</td>\n",
       "      <td>1.0</td>\n",
       "      <td>4.0</td>\n",
       "      <td>4.0</td>\n",
       "      <td>3.0</td>\n",
       "      <td>5.0</td>\n",
       "      <td>2.0</td>\n",
       "    </tr>\n",
       "    <tr>\n",
       "      <th>3</th>\n",
       "      <td>2.0</td>\n",
       "      <td>4.0</td>\n",
       "      <td>2</td>\n",
       "      <td>2.0</td>\n",
       "      <td>4</td>\n",
       "      <td>2</td>\n",
       "      <td>5</td>\n",
       "      <td>2</td>\n",
       "      <td>1</td>\n",
       "      <td>2</td>\n",
       "      <td>...</td>\n",
       "      <td>2.0</td>\n",
       "      <td>2.0</td>\n",
       "      <td>2.0</td>\n",
       "      <td>0.0</td>\n",
       "      <td>1.0</td>\n",
       "      <td>3.0</td>\n",
       "      <td>4.0</td>\n",
       "      <td>2.0</td>\n",
       "      <td>3.0</td>\n",
       "      <td>3.0</td>\n",
       "    </tr>\n",
       "    <tr>\n",
       "      <th>4</th>\n",
       "      <td>NaN</td>\n",
       "      <td>3.0</td>\n",
       "      <td>1</td>\n",
       "      <td>5.0</td>\n",
       "      <td>4</td>\n",
       "      <td>3</td>\n",
       "      <td>4</td>\n",
       "      <td>1</td>\n",
       "      <td>3</td>\n",
       "      <td>2</td>\n",
       "      <td>...</td>\n",
       "      <td>2.0</td>\n",
       "      <td>4.0</td>\n",
       "      <td>2.0</td>\n",
       "      <td>1.0</td>\n",
       "      <td>2.0</td>\n",
       "      <td>3.0</td>\n",
       "      <td>3.0</td>\n",
       "      <td>4.0</td>\n",
       "      <td>6.0</td>\n",
       "      <td>5.0</td>\n",
       "    </tr>\n",
       "  </tbody>\n",
       "</table>\n",
       "<p>5 rows × 85 columns</p>\n",
       "</div>"
      ],
      "text/plain": [
       "   AGER_TYP  ALTERSKATEGORIE_GROB  ANREDE_KZ  CJT_GESAMTTYP  \\\n",
       "0       NaN                   2.0          1            2.0   \n",
       "1       NaN                   1.0          2            5.0   \n",
       "2       NaN                   3.0          2            3.0   \n",
       "3       2.0                   4.0          2            2.0   \n",
       "4       NaN                   3.0          1            5.0   \n",
       "\n",
       "   FINANZ_MINIMALIST  FINANZ_SPARER  FINANZ_VORSORGER  FINANZ_ANLEGER  \\\n",
       "0                  3              4                 3               5   \n",
       "1                  1              5                 2               5   \n",
       "2                  1              4                 1               2   \n",
       "3                  4              2                 5               2   \n",
       "4                  4              3                 4               1   \n",
       "\n",
       "   FINANZ_UNAUFFAELLIGER  FINANZ_HAUSBAUER    ...     PLZ8_ANTG1  PLZ8_ANTG2  \\\n",
       "0                      5                 3    ...            NaN         NaN   \n",
       "1                      4                 5    ...            2.0         3.0   \n",
       "2                      3                 5    ...            3.0         3.0   \n",
       "3                      1                 2    ...            2.0         2.0   \n",
       "4                      3                 2    ...            2.0         4.0   \n",
       "\n",
       "   PLZ8_ANTG3  PLZ8_ANTG4  PLZ8_BAUMAX  PLZ8_HHZ  PLZ8_GBZ  ARBEIT  \\\n",
       "0         NaN         NaN          NaN       NaN       NaN     NaN   \n",
       "1         2.0         1.0          1.0       5.0       4.0     3.0   \n",
       "2         1.0         0.0          1.0       4.0       4.0     3.0   \n",
       "3         2.0         0.0          1.0       3.0       4.0     2.0   \n",
       "4         2.0         1.0          2.0       3.0       3.0     4.0   \n",
       "\n",
       "   ORTSGR_KLS9  RELAT_AB  \n",
       "0          NaN       NaN  \n",
       "1          5.0       4.0  \n",
       "2          5.0       2.0  \n",
       "3          3.0       3.0  \n",
       "4          6.0       5.0  \n",
       "\n",
       "[5 rows x 85 columns]"
      ]
     },
     "execution_count": 11,
     "metadata": {},
     "output_type": "execute_result"
    }
   ],
   "source": [
    "azdias.head()"
   ]
  },
  {
   "cell_type": "markdown",
   "metadata": {},
   "source": [
    "#### Step 1.1.2: Assess Missing Data in Each Column\n",
    "\n",
    "How much missing data is present in each column? There are a few columns that are outliers in terms of the proportion of values that are missing. You will want to use matplotlib's [`hist()`](https://matplotlib.org/api/_as_gen/matplotlib.pyplot.hist.html) function to visualize the distribution of missing value counts to find these columns. Identify and document these columns. While some of these columns might have justifications for keeping or re-encoding the data, for this project you should just remove them from the dataframe. (Feel free to make remarks about these outlier columns in the discussion, however!)\n",
    "\n",
    "For the remaining features, are there any patterns in which columns have, or share, missing data?"
   ]
  },
  {
   "cell_type": "code",
   "execution_count": 12,
   "metadata": {},
   "outputs": [
    {
     "name": "stdout",
     "output_type": "stream",
     "text": [
      "AGER_TYP                 685843\n",
      "ALTERSKATEGORIE_GROB       2881\n",
      "ANREDE_KZ                     0\n",
      "CJT_GESAMTTYP              4854\n",
      "FINANZ_MINIMALIST             0\n",
      "FINANZ_SPARER                 0\n",
      "FINANZ_VORSORGER              0\n",
      "FINANZ_ANLEGER                0\n",
      "FINANZ_UNAUFFAELLIGER         0\n",
      "FINANZ_HAUSBAUER              0\n",
      "FINANZTYP                     0\n",
      "GEBURTSJAHR              392318\n",
      "GFK_URLAUBERTYP            4854\n",
      "GREEN_AVANTGARDE              0\n",
      "HEALTH_TYP               111196\n",
      "LP_LEBENSPHASE_FEIN       97632\n",
      "LP_LEBENSPHASE_GROB       94572\n",
      "LP_FAMILIE_FEIN           77792\n",
      "LP_FAMILIE_GROB           77792\n",
      "LP_STATUS_FEIN             4854\n",
      "LP_STATUS_GROB             4854\n",
      "NATIONALITAET_KZ         108315\n",
      "PRAEGENDE_JUGENDJAHRE    108164\n",
      "RETOURTYP_BK_S             4854\n",
      "SEMIO_SOZ                     0\n",
      "SEMIO_FAM                     0\n",
      "SEMIO_REL                     0\n",
      "SEMIO_MAT                     0\n",
      "SEMIO_VERT                    0\n",
      "SEMIO_LUST                    0\n",
      "                          ...  \n",
      "OST_WEST_KZ               93148\n",
      "WOHNLAGE                  93148\n",
      "CAMEO_DEUG_2015           99352\n",
      "CAMEO_DEU_2015            99352\n",
      "CAMEO_INTL_2015           99352\n",
      "KBA05_ANTG1              133324\n",
      "KBA05_ANTG2              133324\n",
      "KBA05_ANTG3              133324\n",
      "KBA05_ANTG4              133324\n",
      "KBA05_BAUMAX             476524\n",
      "KBA05_GBZ                133324\n",
      "BALLRAUM                  93740\n",
      "EWDICHTE                  93740\n",
      "INNENSTADT                93740\n",
      "GEBAEUDETYP_RASTER        93155\n",
      "KKK                      158064\n",
      "MOBI_REGIO               133324\n",
      "ONLINE_AFFINITAET          4854\n",
      "REGIOTYP                 158064\n",
      "KBA13_ANZAHL_PKW         105800\n",
      "PLZ8_ANTG1               116515\n",
      "PLZ8_ANTG2               116515\n",
      "PLZ8_ANTG3               116515\n",
      "PLZ8_ANTG4               116515\n",
      "PLZ8_BAUMAX              116515\n",
      "PLZ8_HHZ                 116515\n",
      "PLZ8_GBZ                 116515\n",
      "ARBEIT                    97375\n",
      "ORTSGR_KLS9               97274\n",
      "RELAT_AB                  97375\n",
      "Length: 85, dtype: int64\n"
     ]
    }
   ],
   "source": [
    "# Perform an assessment of how much missing data there is, in each column of the\n",
    "# dataset.\n",
    "nan_count_per_col = azdias.isnull().sum(axis = 0)\n",
    "\n",
    "print(nan_count_per_col)"
   ]
  },
  {
   "cell_type": "code",
   "execution_count": 13,
   "metadata": {},
   "outputs": [
    {
     "name": "stdout",
     "output_type": "stream",
     "text": [
      "Number of columns with null:  61\n"
     ]
    }
   ],
   "source": [
    "# Show number of columns with null value\n",
    "nan_count_per_col_val = nan_count_per_col.values\n",
    "count_null = 0\n",
    "for i in range(len(nan_count_per_col_val)):\n",
    "    if nan_count_per_col_val[i] != 0:\n",
    "        count_null += 1\n",
    "print(\"Number of columns with null: \", count_null)"
   ]
  },
  {
   "cell_type": "code",
   "execution_count": 14,
   "metadata": {},
   "outputs": [
    {
     "data": {
      "image/png": "[encoded data removed]",
      "text/plain": [
       "<matplotlib.figure.Figure at 0x7f749c765400>"
      ]
     },
     "metadata": {
      "needs_background": "light"
     },
     "output_type": "display_data"
    }
   ],
   "source": [
    "# Investigate patterns in the amount of missing data in each column.\n",
    "plt.figure(figsize=(15,5))\n",
    "x = np.arange(len(nan_count_per_col_val))\n",
    "plt.bar(x, nan_count_per_col_val)\n",
    "plt.title('Distribution of nulls in columns')\n",
    "plt.show()"
   ]
  },
  {
   "cell_type": "code",
   "execution_count": 15,
   "metadata": {},
   "outputs": [
    {
     "name": "stdout",
     "output_type": "stream",
     "text": [
      "Number of columns to drop:  6\n"
     ]
    }
   ],
   "source": [
    "# choose outlier columns based on graphical information\n",
    "def show_cols_to_drop(df, nan_count_per_col_val, max_num):\n",
    "    col_list_drop = []\n",
    "    count_drop = 0\n",
    "    for i in range(len(nan_count_per_col_val)):\n",
    "        if nan_count_per_col_val[i] >= max_num:\n",
    "            col_list_drop.append(i)\n",
    "            count_drop += 1\n",
    "    print(\"Number of columns to drop: \", count_drop)\n",
    "    col_list_drop = list(df.columns[col_list_drop])\n",
    "    return col_list_drop\n",
    "\n",
    "col_list_drop_vis = show_cols_to_drop(azdias, nan_count_per_col_val, 200000)"
   ]
  },
  {
   "cell_type": "code",
   "execution_count": 16,
   "metadata": {},
   "outputs": [
    {
     "name": "stdout",
     "output_type": "stream",
     "text": [
      "['AGER_TYP', 'GEBURTSJAHR', 'TITEL_KZ', 'ALTER_HH', 'KK_KUNDENTYP', 'KBA05_BAUMAX']\n"
     ]
    }
   ],
   "source": [
    "# Print columns to drop\n",
    "print(col_list_drop_vis)"
   ]
  },
  {
   "cell_type": "code",
   "execution_count": 17,
   "metadata": {},
   "outputs": [
    {
     "name": "stdout",
     "output_type": "stream",
     "text": [
      "q1:  0.0  q3:  116515.0  iqr:  116515.0\n",
      "Number of outliers:  6\n",
      "upper_bound:  291287.5\n",
      "min outlier value:  310267\n"
     ]
    }
   ],
   "source": [
    "# using interquartiles to detect outliers\n",
    "def get_iqr_upper_bound(null_count_per_row_val):\n",
    "    null_count_per_row_val_sort = np.array(null_count_per_row_val)\n",
    "    null_count_per_row_val_sort.sort()\n",
    "    q1, q3= np.percentile(null_count_per_row_val_sort,[25,75])\n",
    "    iqr = q3 - q1\n",
    "    print(\"q1: \", q1, \" q3: \", q3, \" iqr: \", iqr)\n",
    "    upper_bound = q3 + (1.5 * iqr) \n",
    "\n",
    "    outlier_list_iqr = []\n",
    "\n",
    "    for x in null_count_per_row_val: \n",
    "        # detect top outliers, i.e. one-sided detection\n",
    "        if x > upper_bound:\n",
    "            outlier_list_iqr.append(x)\n",
    "    print(\"Number of outliers: \", len(outlier_list_iqr))\n",
    "    print(\"upper_bound: \", upper_bound)\n",
    "    if outlier_list_iqr:\n",
    "        print(\"min outlier value: \", min(outlier_list_iqr))\n",
    "    \n",
    "    return upper_bound\n",
    "nan_count_per_col_val_sort = np.array(nan_count_per_col_val)    \n",
    "_ = get_iqr_upper_bound(nan_count_per_col_val_sort)"
   ]
  },
  {
   "cell_type": "code",
   "execution_count": 18,
   "metadata": {},
   "outputs": [],
   "source": [
    "# Remove the outlier columns from the dataset. (You'll perform other data\n",
    "# engineering tasks such as re-encoding and imputation later.)\n",
    "azdias_init = pd.DataFrame(data = azdias)\n",
    "max_nan = 200000\n",
    "azdias = azdias.drop(azdias.columns[azdias.apply(lambda col: col.isnull().sum() > max_nan)], axis=1)"
   ]
  },
  {
   "cell_type": "code",
   "execution_count": 19,
   "metadata": {},
   "outputs": [
    {
     "data": {
      "text/plain": [
       "(891221, 79)"
      ]
     },
     "execution_count": 19,
     "metadata": {},
     "output_type": "execute_result"
    }
   ],
   "source": [
    "azdias.shape"
   ]
  },
  {
   "cell_type": "code",
   "execution_count": 20,
   "metadata": {},
   "outputs": [
    {
     "data": {
      "image/png": "[encoded data removed]",
      "text/plain": [
       "<matplotlib.figure.Figure at 0x7f749a673eb8>"
      ]
     },
     "metadata": {
      "needs_background": "light"
     },
     "output_type": "display_data"
    }
   ],
   "source": [
    "# Show distribution of nulls in columns\n",
    "nan_count_per_col_2 = azdias.isnull().sum(axis = 0)\n",
    "\n",
    "plt.figure(figsize=(15,5))\n",
    "x = np.arange(len(nan_count_per_col_2.values))\n",
    "plt.bar(x, nan_count_per_col_2.values)\n",
    "plt.title('Distribution of nulls in columns')\n",
    "plt.show()"
   ]
  },
  {
   "cell_type": "markdown",
   "metadata": {},
   "source": [
    "#### Discussion 1.1.2: Assess Missing Data in Each Column\n",
    "\n",
    "(Double click this cell and replace this text with your own text, reporting your observations regarding the amount of missing data in each column. Are there any patterns in missing values? Which columns were removed from the dataset?)\n",
    "\n",
    "There were 85 columns in the dataset, 24 columns did not have any missing value, the column with the highest number of missing values was the TITEL_KZ column with 889061 null values. Six columns were identified as outlying columns, because the number null values in each outlying column was signifcantly greater than the number in the other columns. The outlying columns have been removed from the dataset and they are: 'AGER_TYP', 'GEBURTSJAHR', 'TITEL_KZ', 'ALTER_HH', 'KK_KUNDENTYP', and 'KBA05_BAUMAX'.\n"
   ]
  },
  {
   "cell_type": "markdown",
   "metadata": {},
   "source": [
    "#### Step 1.1.3: Assess Missing Data in Each Row\n",
    "\n",
    "Now, you'll perform a similar assessment for the rows of the dataset. How much data is missing in each row? As with the columns, you should see some groups of points that have a very different numbers of missing values. Divide the data into two subsets: one for data points that are above some threshold for missing values, and a second subset for points below that threshold.\n",
    "\n",
    "In order to know what to do with the outlier rows, we should see if the distribution of data values on columns that are not missing data (or are missing very little data) are similar or different between the two groups. Select at least five of these columns and compare the distribution of values.\n",
    "- You can use seaborn's [`countplot()`](https://seaborn.pydata.org/generated/seaborn.countplot.html) function to create a bar chart of code frequencies and matplotlib's [`subplot()`](https://matplotlib.org/api/_as_gen/matplotlib.pyplot.subplot.html) function to put bar charts for the two subplots side by side.\n",
    "- To reduce repeated code, you might want to write a function that can perform this comparison, taking as one of its arguments a column to be compared.\n",
    "\n",
    "Depending on what you observe in your comparison, this will have implications on how you approach your conclusions later in the analysis. If the distributions of non-missing features look similar between the data with many missing values and the data with few or no missing values, then we could argue that simply dropping those points from the analysis won't present a major issue. On the other hand, if the data with many missing values looks very different from the data with few or no missing values, then we should make a note on those data as special. We'll revisit these data later on. **Either way, you should continue your analysis for now using just the subset of the data with few or no missing values.**"
   ]
  },
  {
   "cell_type": "code",
   "execution_count": 21,
   "metadata": {},
   "outputs": [],
   "source": [
    "# How much data is missing in each row of the dataset?\n",
    "null_count_per_row = azdias.isnull().sum(axis=1)"
   ]
  },
  {
   "cell_type": "code",
   "execution_count": 22,
   "metadata": {},
   "outputs": [
    {
     "name": "stdout",
     "output_type": "stream",
     "text": [
      "0    43\n",
      "1     0\n",
      "2     0\n",
      "3     7\n",
      "4     0\n",
      "5     0\n",
      "6     0\n",
      "7     0\n",
      "8     0\n",
      "9     0\n",
      "dtype: int64\n"
     ]
    }
   ],
   "source": [
    "print(null_count_per_row[:10])"
   ]
  },
  {
   "cell_type": "code",
   "execution_count": 23,
   "metadata": {},
   "outputs": [
    {
     "name": "stdout",
     "output_type": "stream",
     "text": [
      "Number of rows with null:  268012\n"
     ]
    }
   ],
   "source": [
    "# Number of rows with nulls\n",
    "null_count_per_row_val = null_count_per_row.values\n",
    "count_null = 0\n",
    "for i in range(len(null_count_per_row_val)):\n",
    "    if null_count_per_row_val[i] > 0:\n",
    "        count_null += 1\n",
    "print(\"Number of rows with null: \", count_null)"
   ]
  },
  {
   "cell_type": "code",
   "execution_count": 24,
   "metadata": {
    "scrolled": false
   },
   "outputs": [
    {
     "data": {
      "image/png": "[encoded data removed]",
      "text/plain": [
       "<matplotlib.figure.Figure at 0x7f749c7f02b0>"
      ]
     },
     "metadata": {
      "needs_background": "light"
     },
     "output_type": "display_data"
    }
   ],
   "source": [
    "plt.figure(figsize=(15,5))\n",
    "plt.hist(null_count_per_row_val, bins=100)\n",
    "plt.title('The frequency of null values in rows')\n",
    "plt.show()"
   ]
  },
  {
   "cell_type": "code",
   "execution_count": 25,
   "metadata": {},
   "outputs": [
    {
     "name": "stdout",
     "output_type": "stream",
     "text": [
      "max number of nulls:  49\n"
     ]
    }
   ],
   "source": [
    "print(\"max number of nulls: \", max(null_count_per_row_val))"
   ]
  },
  {
   "cell_type": "code",
   "execution_count": 26,
   "metadata": {},
   "outputs": [
    {
     "name": "stdout",
     "output_type": "stream",
     "text": [
      "Number of outliers:  92945\n",
      "min outlier:  33\n"
     ]
    }
   ],
   "source": [
    "# using normal distribution to detect row outliers\n",
    "max_z = 2\n",
    "mean_null = np.mean(null_count_per_row_val)\n",
    "std_null = np.std(null_count_per_row_val)\n",
    "outlier_list = []\n",
    "\n",
    "for x in null_count_per_row_val:\n",
    "    z_score= (x - mean_null)/std_null \n",
    "    # eliminate top outliers, i.e. one-sided elimination\n",
    "    if z_score > max_z:\n",
    "        outlier_list.append(x)\n",
    "print(\"Number of outliers: \", len(outlier_list))\n",
    "print(\"min outlier: \", min(outlier_list))"
   ]
  },
  {
   "cell_type": "code",
   "execution_count": 27,
   "metadata": {},
   "outputs": [
    {
     "name": "stdout",
     "output_type": "stream",
     "text": [
      "q1:  0.0  q3:  3.0  iqr:  3.0\n",
      "Number of outliers:  144112\n",
      "upper_bound:  7.5\n",
      "min outlier value:  8\n"
     ]
    }
   ],
   "source": [
    "# using IQR to detect row outliers\n",
    "upper_bound = get_iqr_upper_bound(null_count_per_row_val)"
   ]
  },
  {
   "cell_type": "code",
   "execution_count": 28,
   "metadata": {},
   "outputs": [],
   "source": [
    "# Write code to divide the data into two subsets based on the number of missing\n",
    "# values in each row.\n",
    "mask = null_count_per_row > upper_bound + 2.5     # increase threshold to 10\n",
    "row_outliers = pd.DataFrame(data=azdias.loc[mask])\n",
    "\n",
    "mask = null_count_per_row <= upper_bound + 2.5\n",
    "azdias = azdias.loc[mask]"
   ]
  },
  {
   "cell_type": "code",
   "execution_count": 29,
   "metadata": {},
   "outputs": [
    {
     "data": {
      "text/plain": [
       "(780153, 79)"
      ]
     },
     "execution_count": 29,
     "metadata": {},
     "output_type": "execute_result"
    }
   ],
   "source": [
    "azdias.shape"
   ]
  },
  {
   "cell_type": "code",
   "execution_count": 30,
   "metadata": {},
   "outputs": [
    {
     "name": "stdout",
     "output_type": "stream",
     "text": [
      "['ANREDE_KZ', 'FINANZ_MINIMALIST', 'FINANZ_SPARER', 'FINANZ_VORSORGER', 'FINANZ_ANLEGER']\n"
     ]
    },
    {
     "data": {
      "text/html": [
       "<div>\n",
       "<style scoped>\n",
       "    .dataframe tbody tr th:only-of-type {\n",
       "        vertical-align: middle;\n",
       "    }\n",
       "\n",
       "    .dataframe tbody tr th {\n",
       "        vertical-align: top;\n",
       "    }\n",
       "\n",
       "    .dataframe thead th {\n",
       "        text-align: right;\n",
       "    }\n",
       "</style>\n",
       "<table border=\"1\" class=\"dataframe\">\n",
       "  <thead>\n",
       "    <tr style=\"text-align: right;\">\n",
       "      <th></th>\n",
       "      <th>ANREDE_KZ</th>\n",
       "      <th>FINANZ_MINIMALIST</th>\n",
       "      <th>FINANZ_SPARER</th>\n",
       "      <th>FINANZ_VORSORGER</th>\n",
       "      <th>FINANZ_ANLEGER</th>\n",
       "    </tr>\n",
       "  </thead>\n",
       "  <tbody>\n",
       "    <tr>\n",
       "      <th>count</th>\n",
       "      <td>780153.000000</td>\n",
       "      <td>780153.000000</td>\n",
       "      <td>780153.000000</td>\n",
       "      <td>780153.000000</td>\n",
       "      <td>780153.000000</td>\n",
       "    </tr>\n",
       "    <tr>\n",
       "      <th>mean</th>\n",
       "      <td>1.521235</td>\n",
       "      <td>3.050657</td>\n",
       "      <td>2.711548</td>\n",
       "      <td>3.439027</td>\n",
       "      <td>2.838339</td>\n",
       "    </tr>\n",
       "    <tr>\n",
       "      <th>std</th>\n",
       "      <td>0.499549</td>\n",
       "      <td>1.378001</td>\n",
       "      <td>1.486898</td>\n",
       "      <td>1.376730</td>\n",
       "      <td>1.473251</td>\n",
       "    </tr>\n",
       "    <tr>\n",
       "      <th>min</th>\n",
       "      <td>1.000000</td>\n",
       "      <td>1.000000</td>\n",
       "      <td>1.000000</td>\n",
       "      <td>1.000000</td>\n",
       "      <td>1.000000</td>\n",
       "    </tr>\n",
       "    <tr>\n",
       "      <th>25%</th>\n",
       "      <td>1.000000</td>\n",
       "      <td>2.000000</td>\n",
       "      <td>1.000000</td>\n",
       "      <td>2.000000</td>\n",
       "      <td>1.000000</td>\n",
       "    </tr>\n",
       "    <tr>\n",
       "      <th>50%</th>\n",
       "      <td>2.000000</td>\n",
       "      <td>3.000000</td>\n",
       "      <td>3.000000</td>\n",
       "      <td>4.000000</td>\n",
       "      <td>3.000000</td>\n",
       "    </tr>\n",
       "    <tr>\n",
       "      <th>75%</th>\n",
       "      <td>2.000000</td>\n",
       "      <td>4.000000</td>\n",
       "      <td>4.000000</td>\n",
       "      <td>5.000000</td>\n",
       "      <td>4.000000</td>\n",
       "    </tr>\n",
       "    <tr>\n",
       "      <th>max</th>\n",
       "      <td>2.000000</td>\n",
       "      <td>5.000000</td>\n",
       "      <td>5.000000</td>\n",
       "      <td>5.000000</td>\n",
       "      <td>5.000000</td>\n",
       "    </tr>\n",
       "  </tbody>\n",
       "</table>\n",
       "</div>"
      ],
      "text/plain": [
       "           ANREDE_KZ  FINANZ_MINIMALIST  FINANZ_SPARER  FINANZ_VORSORGER  \\\n",
       "count  780153.000000      780153.000000  780153.000000     780153.000000   \n",
       "mean        1.521235           3.050657       2.711548          3.439027   \n",
       "std         0.499549           1.378001       1.486898          1.376730   \n",
       "min         1.000000           1.000000       1.000000          1.000000   \n",
       "25%         1.000000           2.000000       1.000000          2.000000   \n",
       "50%         2.000000           3.000000       3.000000          4.000000   \n",
       "75%         2.000000           4.000000       4.000000          5.000000   \n",
       "max         2.000000           5.000000       5.000000          5.000000   \n",
       "\n",
       "       FINANZ_ANLEGER  \n",
       "count   780153.000000  \n",
       "mean         2.838339  \n",
       "std          1.473251  \n",
       "min          1.000000  \n",
       "25%          1.000000  \n",
       "50%          3.000000  \n",
       "75%          4.000000  \n",
       "max          5.000000  "
      ]
     },
     "execution_count": 30,
     "metadata": {},
     "output_type": "execute_result"
    }
   ],
   "source": [
    "# Compare the distribution of values for at least five columns where there are\n",
    "# no or few missing values, between the two subsets.\n",
    "\n",
    "# Pick 5 columns where the number of nulls is zero\n",
    "nan_count_per_col_val = azdias.isnull().sum(axis = 0).values\n",
    "list_idx = []\n",
    "idx_counter = 0\n",
    "for i in range(len(nan_count_per_col_val)):\n",
    "    if nan_count_per_col_val[i] == 0:\n",
    "        list_idx.append(i)\n",
    "        idx_counter += 1\n",
    "    if idx_counter == 5:\n",
    "        break\n",
    "\n",
    "# 5 columns with no missing values\n",
    "col_name_list = azdias.columns[list_idx]\n",
    "print(list(col_name_list))\n",
    "azdias[col_name_list].describe()"
   ]
  },
  {
   "cell_type": "code",
   "execution_count": 31,
   "metadata": {},
   "outputs": [
    {
     "data": {
      "text/html": [
       "<div>\n",
       "<style scoped>\n",
       "    .dataframe tbody tr th:only-of-type {\n",
       "        vertical-align: middle;\n",
       "    }\n",
       "\n",
       "    .dataframe tbody tr th {\n",
       "        vertical-align: top;\n",
       "    }\n",
       "\n",
       "    .dataframe thead th {\n",
       "        text-align: right;\n",
       "    }\n",
       "</style>\n",
       "<table border=\"1\" class=\"dataframe\">\n",
       "  <thead>\n",
       "    <tr style=\"text-align: right;\">\n",
       "      <th></th>\n",
       "      <th>ANREDE_KZ</th>\n",
       "      <th>FINANZ_MINIMALIST</th>\n",
       "      <th>FINANZ_SPARER</th>\n",
       "      <th>FINANZ_VORSORGER</th>\n",
       "      <th>FINANZ_ANLEGER</th>\n",
       "    </tr>\n",
       "  </thead>\n",
       "  <tbody>\n",
       "    <tr>\n",
       "      <th>count</th>\n",
       "      <td>111068.000000</td>\n",
       "      <td>111068.000000</td>\n",
       "      <td>111068.000000</td>\n",
       "      <td>111068.000000</td>\n",
       "      <td>111068.000000</td>\n",
       "    </tr>\n",
       "    <tr>\n",
       "      <th>mean</th>\n",
       "      <td>1.528163</td>\n",
       "      <td>3.242203</td>\n",
       "      <td>3.590116</td>\n",
       "      <td>3.134746</td>\n",
       "      <td>4.402951</td>\n",
       "    </tr>\n",
       "    <tr>\n",
       "      <th>std</th>\n",
       "      <td>0.499208</td>\n",
       "      <td>0.795908</td>\n",
       "      <td>1.005289</td>\n",
       "      <td>0.795002</td>\n",
       "      <td>1.177010</td>\n",
       "    </tr>\n",
       "    <tr>\n",
       "      <th>min</th>\n",
       "      <td>1.000000</td>\n",
       "      <td>1.000000</td>\n",
       "      <td>1.000000</td>\n",
       "      <td>1.000000</td>\n",
       "      <td>1.000000</td>\n",
       "    </tr>\n",
       "    <tr>\n",
       "      <th>25%</th>\n",
       "      <td>1.000000</td>\n",
       "      <td>3.000000</td>\n",
       "      <td>4.000000</td>\n",
       "      <td>3.000000</td>\n",
       "      <td>4.000000</td>\n",
       "    </tr>\n",
       "    <tr>\n",
       "      <th>50%</th>\n",
       "      <td>2.000000</td>\n",
       "      <td>3.000000</td>\n",
       "      <td>4.000000</td>\n",
       "      <td>3.000000</td>\n",
       "      <td>5.000000</td>\n",
       "    </tr>\n",
       "    <tr>\n",
       "      <th>75%</th>\n",
       "      <td>2.000000</td>\n",
       "      <td>3.000000</td>\n",
       "      <td>4.000000</td>\n",
       "      <td>3.000000</td>\n",
       "      <td>5.000000</td>\n",
       "    </tr>\n",
       "    <tr>\n",
       "      <th>max</th>\n",
       "      <td>2.000000</td>\n",
       "      <td>5.000000</td>\n",
       "      <td>5.000000</td>\n",
       "      <td>5.000000</td>\n",
       "      <td>5.000000</td>\n",
       "    </tr>\n",
       "  </tbody>\n",
       "</table>\n",
       "</div>"
      ],
      "text/plain": [
       "           ANREDE_KZ  FINANZ_MINIMALIST  FINANZ_SPARER  FINANZ_VORSORGER  \\\n",
       "count  111068.000000      111068.000000  111068.000000     111068.000000   \n",
       "mean        1.528163           3.242203       3.590116          3.134746   \n",
       "std         0.499208           0.795908       1.005289          0.795002   \n",
       "min         1.000000           1.000000       1.000000          1.000000   \n",
       "25%         1.000000           3.000000       4.000000          3.000000   \n",
       "50%         2.000000           3.000000       4.000000          3.000000   \n",
       "75%         2.000000           3.000000       4.000000          3.000000   \n",
       "max         2.000000           5.000000       5.000000          5.000000   \n",
       "\n",
       "       FINANZ_ANLEGER  \n",
       "count   111068.000000  \n",
       "mean         4.402951  \n",
       "std          1.177010  \n",
       "min          1.000000  \n",
       "25%          4.000000  \n",
       "50%          5.000000  \n",
       "75%          5.000000  \n",
       "max          5.000000  "
      ]
     },
     "execution_count": 31,
     "metadata": {},
     "output_type": "execute_result"
    }
   ],
   "source": [
    "row_outliers[col_name_list].describe()"
   ]
  },
  {
   "cell_type": "code",
   "execution_count": 32,
   "metadata": {
    "scrolled": false
   },
   "outputs": [
    {
     "data": {
      "image/png": "[encoded data removed]",
      "text/plain": [
       "<matplotlib.figure.Figure at 0x7f749a3f4c50>"
      ]
     },
     "metadata": {
      "needs_background": "light"
     },
     "output_type": "display_data"
    }
   ],
   "source": [
    "# Compare the distribution of column values\n",
    "plt.figure(figsize=(15, 30))\n",
    "j = 1\n",
    "for i in range(len(col_name_list)):\n",
    "    plt.subplot(5,2,j)\n",
    "    col_values = azdias[col_name_list[i]].values\n",
    "    plt.hist(col_values)\n",
    "    plt.title('Frequency of values in '+col_name_list[i]+ ' column (azdias)')\n",
    "    j += 1\n",
    "\n",
    "\n",
    "    plt.subplot(5,2,j)\n",
    "    col_values = row_outliers[col_name_list[i]].values\n",
    "    plt.hist(col_values)\n",
    "    plt.title('Frequency of values in '+col_name_list[i]+ ' column (row_outliers)')\n",
    "    j += 1\n",
    "plt.show()"
   ]
  },
  {
   "cell_type": "markdown",
   "metadata": {},
   "source": [
    "## Discussion 1.1.3: Assess Missing Data in Each Row\n",
    "\n",
    "(Double-click this cell and replace this text with your own text, reporting your observations regarding missing data in rows. Are the data with lots of missing values qualitatively different from data with few or no missing values?)\n",
    "\n",
    "About 70% of the rows have no missing value, while the maximum number of missing values is 49. The average number of missing values is about 6, which confirms that the distribution is skewed and most rows have little or no missing values.\n",
    "\n",
    "Going by the above comparison of similar columns with no missing values, in the main dataset and the outlier dataset, the distribution of values is different in the two datasets, with the exception of the ANREDE_KZ (Gender) column."
   ]
  },
  {
   "cell_type": "markdown",
   "metadata": {},
   "source": [
    "### Step 1.2: Select and Re-Encode Features\n",
    "\n",
    "Checking for missing data isn't the only way in which you can prepare a dataset for analysis. Since the unsupervised learning techniques to be used will only work on data that is encoded numerically, you need to make a few encoding changes or additional assumptions to be able to make progress. In addition, while almost all of the values in the dataset are encoded using numbers, not all of them represent numeric values. Check the third column of the feature summary (`feat_info`) for a summary of types of measurement.\n",
    "- For numeric and interval data, these features can be kept without changes.\n",
    "- Most of the variables in the dataset are ordinal in nature. While ordinal values may technically be non-linear in spacing, make the simplifying assumption that the ordinal variables can be treated as being interval in nature (that is, kept without any changes).\n",
    "- Special handling may be necessary for the remaining two variable types: categorical, and 'mixed'.\n",
    "\n",
    "In the first two parts of this sub-step, you will perform an investigation of the categorical and mixed-type features and make a decision on each of them, whether you will keep, drop, or re-encode each. Then, in the last part, you will create a new data frame with only the selected and engineered columns.\n",
    "\n",
    "Data wrangling is often the trickiest part of the data analysis process, and there's a lot of it to be done here. But stick with it: once you're done with this step, you'll be ready to get to the machine learning parts of the project!"
   ]
  },
  {
   "cell_type": "code",
   "execution_count": 33,
   "metadata": {},
   "outputs": [
    {
     "data": {
      "text/html": [
       "<div>\n",
       "<style scoped>\n",
       "    .dataframe tbody tr th:only-of-type {\n",
       "        vertical-align: middle;\n",
       "    }\n",
       "\n",
       "    .dataframe tbody tr th {\n",
       "        vertical-align: top;\n",
       "    }\n",
       "\n",
       "    .dataframe thead th {\n",
       "        text-align: right;\n",
       "    }\n",
       "</style>\n",
       "<table border=\"1\" class=\"dataframe\">\n",
       "  <thead>\n",
       "    <tr style=\"text-align: right;\">\n",
       "      <th></th>\n",
       "      <th>type</th>\n",
       "      <th>count</th>\n",
       "    </tr>\n",
       "  </thead>\n",
       "  <tbody>\n",
       "    <tr>\n",
       "      <th>0</th>\n",
       "      <td>categorical</td>\n",
       "      <td>21</td>\n",
       "    </tr>\n",
       "    <tr>\n",
       "      <th>1</th>\n",
       "      <td>interval</td>\n",
       "      <td>1</td>\n",
       "    </tr>\n",
       "    <tr>\n",
       "      <th>2</th>\n",
       "      <td>mixed</td>\n",
       "      <td>7</td>\n",
       "    </tr>\n",
       "    <tr>\n",
       "      <th>3</th>\n",
       "      <td>numeric</td>\n",
       "      <td>7</td>\n",
       "    </tr>\n",
       "    <tr>\n",
       "      <th>4</th>\n",
       "      <td>ordinal</td>\n",
       "      <td>49</td>\n",
       "    </tr>\n",
       "  </tbody>\n",
       "</table>\n",
       "</div>"
      ],
      "text/plain": [
       "          type  count\n",
       "0  categorical     21\n",
       "1     interval      1\n",
       "2        mixed      7\n",
       "3      numeric      7\n",
       "4      ordinal     49"
      ]
     },
     "execution_count": 33,
     "metadata": {},
     "output_type": "execute_result"
    }
   ],
   "source": [
    "# How many features are there of each data type?\n",
    "feat_info.groupby(['type']).size().reset_index(name='count')"
   ]
  },
  {
   "cell_type": "markdown",
   "metadata": {},
   "source": [
    "#### Step 1.2.1: Re-Encode Categorical Features\n",
    "\n",
    "For categorical data, you would ordinarily need to encode the levels as dummy variables. Depending on the number of categories, perform one of the following:\n",
    "- For binary (two-level) categoricals that take numeric values, you can keep them without needing to do anything.\n",
    "- If there is one binary variable that takes on non-numeric values. For this one, you need to re-encode the values as numbers or create a dummy variable.\n",
    "- For multi-level categoricals (three or more values), you can choose to encode the values using multiple dummy variables (e.g. via [OneHotEncoder](http://scikit-learn.org/stable/modules/generated/sklearn.preprocessing.OneHotEncoder.html)), or (to keep things straightforward) just drop them from the analysis. As always, document your choices in the Discussion section."
   ]
  },
  {
   "cell_type": "code",
   "execution_count": 34,
   "metadata": {},
   "outputs": [
    {
     "data": {
      "text/html": [
       "<div>\n",
       "<style scoped>\n",
       "    .dataframe tbody tr th:only-of-type {\n",
       "        vertical-align: middle;\n",
       "    }\n",
       "\n",
       "    .dataframe tbody tr th {\n",
       "        vertical-align: top;\n",
       "    }\n",
       "\n",
       "    .dataframe thead th {\n",
       "        text-align: right;\n",
       "    }\n",
       "</style>\n",
       "<table border=\"1\" class=\"dataframe\">\n",
       "  <thead>\n",
       "    <tr style=\"text-align: right;\">\n",
       "      <th></th>\n",
       "      <th>attribute</th>\n",
       "      <th>type</th>\n",
       "    </tr>\n",
       "  </thead>\n",
       "  <tbody>\n",
       "    <tr>\n",
       "      <th>0</th>\n",
       "      <td>AGER_TYP</td>\n",
       "      <td>categorical</td>\n",
       "    </tr>\n",
       "    <tr>\n",
       "      <th>2</th>\n",
       "      <td>ANREDE_KZ</td>\n",
       "      <td>categorical</td>\n",
       "    </tr>\n",
       "    <tr>\n",
       "      <th>3</th>\n",
       "      <td>CJT_GESAMTTYP</td>\n",
       "      <td>categorical</td>\n",
       "    </tr>\n",
       "    <tr>\n",
       "      <th>10</th>\n",
       "      <td>FINANZTYP</td>\n",
       "      <td>categorical</td>\n",
       "    </tr>\n",
       "    <tr>\n",
       "      <th>12</th>\n",
       "      <td>GFK_URLAUBERTYP</td>\n",
       "      <td>categorical</td>\n",
       "    </tr>\n",
       "    <tr>\n",
       "      <th>13</th>\n",
       "      <td>GREEN_AVANTGARDE</td>\n",
       "      <td>categorical</td>\n",
       "    </tr>\n",
       "    <tr>\n",
       "      <th>17</th>\n",
       "      <td>LP_FAMILIE_FEIN</td>\n",
       "      <td>categorical</td>\n",
       "    </tr>\n",
       "    <tr>\n",
       "      <th>18</th>\n",
       "      <td>LP_FAMILIE_GROB</td>\n",
       "      <td>categorical</td>\n",
       "    </tr>\n",
       "    <tr>\n",
       "      <th>19</th>\n",
       "      <td>LP_STATUS_FEIN</td>\n",
       "      <td>categorical</td>\n",
       "    </tr>\n",
       "    <tr>\n",
       "      <th>20</th>\n",
       "      <td>LP_STATUS_GROB</td>\n",
       "      <td>categorical</td>\n",
       "    </tr>\n",
       "    <tr>\n",
       "      <th>21</th>\n",
       "      <td>NATIONALITAET_KZ</td>\n",
       "      <td>categorical</td>\n",
       "    </tr>\n",
       "    <tr>\n",
       "      <th>38</th>\n",
       "      <td>SHOPPER_TYP</td>\n",
       "      <td>categorical</td>\n",
       "    </tr>\n",
       "    <tr>\n",
       "      <th>39</th>\n",
       "      <td>SOHO_KZ</td>\n",
       "      <td>categorical</td>\n",
       "    </tr>\n",
       "    <tr>\n",
       "      <th>40</th>\n",
       "      <td>TITEL_KZ</td>\n",
       "      <td>categorical</td>\n",
       "    </tr>\n",
       "    <tr>\n",
       "      <th>41</th>\n",
       "      <td>VERS_TYP</td>\n",
       "      <td>categorical</td>\n",
       "    </tr>\n",
       "    <tr>\n",
       "      <th>42</th>\n",
       "      <td>ZABEOTYP</td>\n",
       "      <td>categorical</td>\n",
       "    </tr>\n",
       "    <tr>\n",
       "      <th>47</th>\n",
       "      <td>KK_KUNDENTYP</td>\n",
       "      <td>categorical</td>\n",
       "    </tr>\n",
       "    <tr>\n",
       "      <th>52</th>\n",
       "      <td>GEBAEUDETYP</td>\n",
       "      <td>categorical</td>\n",
       "    </tr>\n",
       "    <tr>\n",
       "      <th>55</th>\n",
       "      <td>OST_WEST_KZ</td>\n",
       "      <td>categorical</td>\n",
       "    </tr>\n",
       "    <tr>\n",
       "      <th>57</th>\n",
       "      <td>CAMEO_DEUG_2015</td>\n",
       "      <td>categorical</td>\n",
       "    </tr>\n",
       "    <tr>\n",
       "      <th>58</th>\n",
       "      <td>CAMEO_DEU_2015</td>\n",
       "      <td>categorical</td>\n",
       "    </tr>\n",
       "  </tbody>\n",
       "</table>\n",
       "</div>"
      ],
      "text/plain": [
       "           attribute         type\n",
       "0           AGER_TYP  categorical\n",
       "2          ANREDE_KZ  categorical\n",
       "3      CJT_GESAMTTYP  categorical\n",
       "10         FINANZTYP  categorical\n",
       "12   GFK_URLAUBERTYP  categorical\n",
       "13  GREEN_AVANTGARDE  categorical\n",
       "17   LP_FAMILIE_FEIN  categorical\n",
       "18   LP_FAMILIE_GROB  categorical\n",
       "19    LP_STATUS_FEIN  categorical\n",
       "20    LP_STATUS_GROB  categorical\n",
       "21  NATIONALITAET_KZ  categorical\n",
       "38       SHOPPER_TYP  categorical\n",
       "39           SOHO_KZ  categorical\n",
       "40          TITEL_KZ  categorical\n",
       "41          VERS_TYP  categorical\n",
       "42          ZABEOTYP  categorical\n",
       "47      KK_KUNDENTYP  categorical\n",
       "52       GEBAEUDETYP  categorical\n",
       "55       OST_WEST_KZ  categorical\n",
       "57   CAMEO_DEUG_2015  categorical\n",
       "58    CAMEO_DEU_2015  categorical"
      ]
     },
     "metadata": {},
     "output_type": "display_data"
    }
   ],
   "source": [
    "# Assess categorical variables: which are binary, which are multi-level, and\n",
    "# which one needs to be re-encoded?\n",
    "display(feat_info[['attribute','type']].loc[feat_info[\"type\"]==\"categorical\"])"
   ]
  },
  {
   "cell_type": "code",
   "execution_count": 35,
   "metadata": {},
   "outputs": [],
   "source": [
    "# Re-encode categorical variable(s) to be kept in the analysis.\n",
    "# Re-encode binary categorical variable(s) to be kept in the analysis.\n",
    "# O: East (GDR), 0\n",
    "# W: West (FRG), 1\n",
    "\n",
    "val_dict = {'O':0, 'W':1} \n",
    "azdias['OST_WEST_KZ'] = azdias['OST_WEST_KZ'].apply(lambda x: val_dict[x] if pd.notnull(x) else x)\n",
    "\n",
    "# For consistency, re-encode VERS_TYP\n",
    "# 1: social-safety driven, 0\n",
    "# 2: individualistic-accepting risks, 1\n",
    "val_dict = {1:0, 2:1}\n",
    "azdias['VERS_TYP'] = azdias['VERS_TYP'].apply(lambda x: val_dict[x] if pd.notnull(x) else x)"
   ]
  },
  {
   "cell_type": "markdown",
   "metadata": {},
   "source": [
    "#### Discussion 1.2.1: Re-Encode Categorical Features\n",
    "\n",
    "(Double-click this cell and replace this text with your own text, reporting your findings and decisions regarding categorical features. Which ones did you keep, which did you drop, and what engineering steps did you perform?)\n",
    "\n",
    "AGER_TYP: dropped from dataset being an outlier column\n",
    "\n",
    "ANREDE_KZ: One-hot-encode has 6 categories\n",
    "\n",
    "CJT_GESAMTTYP: One-hot-encode has 7 categories\n",
    "\n",
    "FINANZTYP: One-hot-encode has 7 categories\n",
    "\n",
    "GFK_URLAUBERTYP: One-hot-encode has 12 categories\n",
    "\n",
    "GREEN_AVANTGARDE: unmodified binary categorical with numeric values\n",
    "\n",
    "LP_FAMILIE_FEIN: One-hot-encode has 12 categories\n",
    "\n",
    "LP_FAMILIE_GROB: One-hot-encode has 6 categories\n",
    "\n",
    "LP_STATUS_FEIN: One-hot-encode has 10 categories\n",
    "\n",
    "LP_STATUS_GROB: One-hot-encode has 5 categories\n",
    "\n",
    "NATIONALITAET_KZ: One-hot-encode has 5 categories\n",
    "\n",
    "SHOPPER_TYP: One-hot-encode has 5 categories\n",
    "\n",
    "SOHO_KZ: unmodified binary categorical with numeric values\n",
    "\n",
    "TITEL_KZ: dropped from dataset being an outlier column\n",
    "\n",
    "VERS_TYP: modified to binary categorical with numeric values\n",
    "\n",
    "ZABEOTYP: One-hot-encode has 10 categories\n",
    "\n",
    "KK_KUNDENTYP: dropped from dataset being an outlier column\n",
    "\n",
    "GEBAEUDETYP: One-hot-encode has 10 categories\n",
    "\n",
    "OST_WEST_KZ: modified to binary categorical with numeric values\n",
    "\n",
    "CAMEO_DEUG_2015: One-hot-encode has 11 categories\n",
    "\n",
    "CAMEO_DEU_2015: One-hot-encode has 45 categories"
   ]
  },
  {
   "cell_type": "code",
   "execution_count": 36,
   "metadata": {},
   "outputs": [
    {
     "data": {
      "image/png": "[encoded data removed]",
      "text/plain": [
       "<matplotlib.figure.Figure at 0x7f7499ec62e8>"
      ]
     },
     "metadata": {
      "needs_background": "light"
     },
     "output_type": "display_data"
    }
   ],
   "source": [
    "# count the number of zeros in each column\n",
    "zero_count_per_col = (azdias == 0).astype(int).sum(axis=0)\n",
    "\n",
    "# Show the distribution of zeros in each column\n",
    "zero_count_per_col_val = zero_count_per_col.values\n",
    "plt.figure(figsize=(15,5))\n",
    "x = np.arange(len(zero_count_per_col_val))\n",
    "plt.bar(x, zero_count_per_col_val)\n",
    "plt.title('The distribution of zeros in columns')\n",
    "plt.show()"
   ]
  },
  {
   "cell_type": "code",
   "execution_count": 37,
   "metadata": {},
   "outputs": [
    {
     "name": "stdout",
     "output_type": "stream",
     "text": [
      "q1:  0.0  q3:  0.0  iqr:  0.0\n",
      "Number of outliers:  19\n",
      "upper_bound:  0.0\n",
      "min outlier value:  58\n"
     ]
    }
   ],
   "source": [
    "# use interquartiles to detect outliers\n",
    "_ = get_iqr_upper_bound(zero_count_per_col_val)"
   ]
  },
  {
   "cell_type": "markdown",
   "metadata": {},
   "source": [
    "#### Step 1.2.2: Engineer Mixed-Type Features\n",
    "\n",
    "There are a handful of features that are marked as \"mixed\" in the feature summary that require special treatment in order to be included in the analysis. There are two in particular that deserve attention; the handling of the rest are up to your own choices:\n",
    "- \"PRAEGENDE_JUGENDJAHRE\" combines information on three dimensions: generation by decade, movement (mainstream vs. avantgarde), and nation (east vs. west). While there aren't enough levels to disentangle east from west, you should create two new variables to capture the other two dimensions: an interval-type variable for decade, and a binary variable for movement.\n",
    "- \"CAMEO_INTL_2015\" combines information on two axes: wealth and life stage. Break up the two-digit codes by their 'tens'-place and 'ones'-place digits into two new ordinal variables (which, for the purposes of this project, is equivalent to just treating them as their raw numeric values).\n",
    "- If you decide to keep or engineer new features around the other mixed-type features, make sure you note your steps in the Discussion section.\n",
    "\n",
    "Be sure to check `Data_Dictionary.md` for the details needed to finish these tasks."
   ]
  },
  {
   "cell_type": "code",
   "execution_count": 38,
   "metadata": {},
   "outputs": [],
   "source": [
    "# Investigate \"PRAEGENDE_JUGENDJAHRE\" and engineer two new variables.\n",
    "# Create two new columns\n",
    "azdias['PRAEGENDE_JUGENDJAHRE_GEN'] = azdias['PRAEGENDE_JUGENDJAHRE'].values\n",
    "azdias['PRAEGENDE_JUGENDJAHRE_MOV'] = azdias['PRAEGENDE_JUGENDJAHRE'].values\n",
    "\n",
    "# Populate the new columns\n",
    "attrib_dict_gen = {1:40, 2: 40, 3: 50, 4: 50, 5: 60, 6: 60, 7: 60, 8: 70, 9: 70, 10: 80, \n",
    "                   11: 80, 12: 80, 13: 80, 14: 90, 15: 90}\n",
    "\n",
    "# 0: Mainstream\n",
    "# 1: Avantgarde\n",
    "attrib_dict_mov = {1:0, 2: 1, 3: 0, 4: 1, 5: 0, 6: 1, 7: 1, 8: 0, 9: 1, 10: 0, \n",
    "                   11: 1, 12: 0, 13: 1, 14: 0, 15: 1}\n",
    "azdias['PRAEGENDE_JUGENDJAHRE_GEN'] = azdias['PRAEGENDE_JUGENDJAHRE'].apply(\n",
    "                                                        lambda x: attrib_dict_gen[x] if pd.notnull(x) else x)\n",
    "azdias['PRAEGENDE_JUGENDJAHRE_MOV'] = azdias['PRAEGENDE_JUGENDJAHRE'].apply(\n",
    "                                                        lambda x: attrib_dict_mov[x] if pd.notnull(x) else x)\n",
    "# Drop the \"PRAEGENDE_JUGENDJAHRE\" column\n",
    "azdias = azdias.drop('PRAEGENDE_JUGENDJAHRE', axis=1)"
   ]
  },
  {
   "cell_type": "code",
   "execution_count": 39,
   "metadata": {},
   "outputs": [],
   "source": [
    "# Investigate \"CAMEO_INTL_2015\" and engineer two new variables.\n",
    "# Create two new columns\n",
    "azdias['CAMEO_INTL_2015_WEALTH'] = azdias['CAMEO_INTL_2015'].values\n",
    "azdias['CAMEO_INTL_2015_STAGE'] = azdias['CAMEO_INTL_2015'].values\n",
    "\n",
    "# Populate the new columns\n",
    "attrib_dict_gen = {1:40, 2: 40, 3: 50, 4: 50, 5: 60, 6: 60, 7: 60, 8: 70, 9: 70, 10: 80, \n",
    "                   11: 80, 12: 80, 13: 80, 14: 90, 15: 90}\n",
    "\n",
    "# 0: Mainstream\n",
    "# 1: Avantgarde\n",
    "attrib_dict_mov = {1:0, 2: 1, 3: 0, 4: 1, 5: 0, 6: 1, 7: 1, 8: 0, 9: 1, 10: 0, \n",
    "                   11: 1, 12: 0, 13: 1, 14: 0, 15: 1}\n",
    "azdias['CAMEO_INTL_2015_WEALTH'] = azdias['CAMEO_INTL_2015'].apply(lambda x: x[0] if pd.notnull(x) else x)\n",
    "azdias['CAMEO_INTL_2015_STAGE'] = azdias['CAMEO_INTL_2015'].apply(lambda x: x[1] if pd.notnull(x) else x)\n",
    "\n",
    "# Drop the \"CAMEO_INTL_2015\" column\n",
    "azdias = azdias.drop('CAMEO_INTL_2015', axis=1)"
   ]
  },
  {
   "cell_type": "code",
   "execution_count": 40,
   "metadata": {},
   "outputs": [
    {
     "data": {
      "text/plain": [
       "(780153, 81)"
      ]
     },
     "execution_count": 40,
     "metadata": {},
     "output_type": "execute_result"
    }
   ],
   "source": [
    "azdias.shape"
   ]
  },
  {
   "cell_type": "markdown",
   "metadata": {},
   "source": [
    "#### Discussion 1.2.2: Engineer Mixed-Type Features\n",
    "\n",
    "(Double-click this cell and replace this text with your own text, reporting your findings and decisions regarding mixed-value features. Which ones did you keep, which did you drop, and what engineering steps did you perform?)\n",
    "\n",
    "The mixed-type features in the dataset are LP_LEBENSPHASE_FEIN, LP_LEBENSPHASE_GROB, PRAEGENDE_JUGENDJAHRE, WOHNLAGE,\n",
    "CAMEO_INTL_2015, and PLZ8_BAUMAX.\n",
    "\n",
    "The dropped mixed-type features are the PRAEGENDE_JUGENDJAHRE and CAMEO_INTL_2015. Each dropped feature was replaced by two features decomposing the mixed-type features."
   ]
  },
  {
   "cell_type": "markdown",
   "metadata": {},
   "source": [
    "#### Step 1.2.3: Complete Feature Selection\n",
    "\n",
    "In order to finish this step up, you need to make sure that your data frame now only has the columns that you want to keep. To summarize, the dataframe should consist of the following:\n",
    "- All numeric, interval, and ordinal type columns from the original dataset.\n",
    "- Binary categorical features (all numerically-encoded).\n",
    "- Engineered features from other multi-level categorical features and mixed features.\n",
    "\n",
    "Make sure that for any new columns that you have engineered, that you've excluded the original columns from the final dataset. Otherwise, their values will interfere with the analysis later on the project. For example, you should not keep \"PRAEGENDE_JUGENDJAHRE\", since its values won't be useful for the algorithm: only the values derived from it in the engineered features you created should be retained. As a reminder, your data should only be from **the subset with few or no missing values**."
   ]
  },
  {
   "cell_type": "code",
   "execution_count": 41,
   "metadata": {},
   "outputs": [],
   "source": [
    "# If there are other re-engineering tasks you need to perform, make sure you\n",
    "# take care of them here. (Dealing with missing data will come in step 2.1.)\n",
    "\n",
    "# Get one hot encoding of categorical and remaining mixed-type features\n",
    "cat_col_list = ['ANREDE_KZ', 'CJT_GESAMTTYP', 'FINANZTYP', 'GFK_URLAUBERTYP', 'LP_FAMILIE_FEIN', 'LP_FAMILIE_GROB',\n",
    "                'LP_STATUS_FEIN', 'LP_STATUS_GROB', 'NATIONALITAET_KZ', 'SHOPPER_TYP',\n",
    "                'ZABEOTYP', 'GEBAEUDETYP', 'CAMEO_DEUG_2015', 'CAMEO_DEU_2015',\n",
    "                'LP_LEBENSPHASE_FEIN', 'LP_LEBENSPHASE_GROB', 'WOHNLAGE', 'PLZ8_BAUMAX']\n",
    "\n",
    "azdias[cat_col_list] = azdias[cat_col_list].astype(object)\n",
    "\n",
    "one_hot_cols = pd.get_dummies(azdias[cat_col_list])\n",
    "\n",
    "# Drop encoded columns\n",
    "azdias = azdias.drop(cat_col_list,axis = 1)\n",
    "\n",
    "# Join the encoded columns to dataframe\n",
    "azdias = azdias.join(one_hot_cols)"
   ]
  },
  {
   "cell_type": "code",
   "execution_count": 42,
   "metadata": {},
   "outputs": [
    {
     "data": {
      "text/plain": [
       "(780153, 258)"
      ]
     },
     "execution_count": 42,
     "metadata": {},
     "output_type": "execute_result"
    }
   ],
   "source": [
    "azdias.shape"
   ]
  },
  {
   "cell_type": "code",
   "execution_count": 43,
   "metadata": {},
   "outputs": [
    {
     "data": {
      "image/png": "[encoded data removed]",
      "text/plain": [
       "<matplotlib.figure.Figure at 0x7f7499f130b8>"
      ]
     },
     "metadata": {
      "needs_background": "light"
     },
     "output_type": "display_data"
    }
   ],
   "source": [
    "# Do whatever you need to in order to ensure that the dataframe only contains\n",
    "# the columns that should be passed to the algorithm functions.\n",
    "\n",
    "# count the number of zeros in each column\n",
    "zero_count_per_col = (azdias == 0).astype(int).sum(axis=0)\n",
    "\n",
    "# Show the distribution of zeros in each column\n",
    "zero_count_per_col_val = zero_count_per_col.values\n",
    "plt.figure(figsize=(15,5))\n",
    "x = np.arange(len(zero_count_per_col_val))\n",
    "plt.bar(x, zero_count_per_col_val)\n",
    "plt.title('The distribution of zeros in columns')\n",
    "plt.show()"
   ]
  },
  {
   "cell_type": "code",
   "execution_count": 44,
   "metadata": {},
   "outputs": [
    {
     "name": "stdout",
     "output_type": "stream",
     "text": [
      "q1:  495777.75  q3:  763589.5  iqr:  267811.75\n",
      "Number of outliers:  0\n",
      "upper_bound:  1165307.125\n"
     ]
    }
   ],
   "source": [
    "# use interquartiles to detect outliers\n",
    "_ = get_iqr_upper_bound(zero_count_per_col_val)"
   ]
  },
  {
   "cell_type": "code",
   "execution_count": 45,
   "metadata": {},
   "outputs": [
    {
     "name": "stdout",
     "output_type": "stream",
     "text": [
      "Number of columns to drop:  193\n"
     ]
    }
   ],
   "source": [
    "# Select columns to drop, having zeros above threshold, 67% of a column\n",
    "# The rationale is eliminate the categorical variables with more than 3 categories, assuming a non-biased categorisation. \n",
    "col_list_drop = show_cols_to_drop(azdias, zero_count_per_col_val, 498000)"
   ]
  },
  {
   "cell_type": "code",
   "execution_count": 46,
   "metadata": {},
   "outputs": [],
   "source": [
    "# Remove the zero outlier columns from the dataset.\n",
    "azdias = azdias.drop(col_list_drop, axis = 1)"
   ]
  },
  {
   "cell_type": "code",
   "execution_count": 47,
   "metadata": {},
   "outputs": [
    {
     "data": {
      "text/plain": [
       "(780153, 65)"
      ]
     },
     "execution_count": 47,
     "metadata": {},
     "output_type": "execute_result"
    }
   ],
   "source": [
    "azdias.shape"
   ]
  },
  {
   "cell_type": "code",
   "execution_count": 48,
   "metadata": {},
   "outputs": [
    {
     "data": {
      "image/png": "[encoded data removed]",
      "text/plain": [
       "<matplotlib.figure.Figure at 0x7f7499f13cf8>"
      ]
     },
     "metadata": {
      "needs_background": "light"
     },
     "output_type": "display_data"
    }
   ],
   "source": [
    "# count the number of zeros in each column\n",
    "zero_count_per_col = (azdias == 0).astype(int).sum(axis=0)\n",
    "\n",
    "# Show the distribution of zeros in each column\n",
    "zero_count_per_col_val = zero_count_per_col.values\n",
    "plt.figure(figsize=(15,5))\n",
    "x = np.arange(len(zero_count_per_col_val))\n",
    "plt.bar(x, zero_count_per_col_val)\n",
    "plt.title('The distribution of zeros in columns')\n",
    "plt.show()"
   ]
  },
  {
   "cell_type": "code",
   "execution_count": 49,
   "metadata": {},
   "outputs": [
    {
     "data": {
      "image/png": "[encoded data removed]",
      "text/plain": [
       "<matplotlib.figure.Figure at 0x7f749a3cc5f8>"
      ]
     },
     "metadata": {
      "needs_background": "light"
     },
     "output_type": "display_data"
    }
   ],
   "source": [
    "# count the number of zeros in each row\n",
    "zero_count_per_row = (azdias == 0).astype(int).sum(axis=1)\n",
    "\n",
    "plt.figure(figsize=(10,5))\n",
    "plt.hist(zero_count_per_row.values, bins=40)\n",
    "plt.title('The frequency of zero values in rows')\n",
    "plt.show()"
   ]
  },
  {
   "cell_type": "markdown",
   "metadata": {},
   "source": [
    "### Step 1.3: Create a Cleaning Function\n",
    "\n",
    "Even though you've finished cleaning up the general population demographics data, it's important to look ahead to the future and realize that you'll need to perform the same cleaning steps on the customer demographics data. In this substep, complete the function below to execute the main feature selection, encoding, and re-engineering steps you performed above. Then, when it comes to looking at the customer data in Step 3, you can just run this function on that DataFrame to get the trimmed dataset in a single step."
   ]
  },
  {
   "cell_type": "code",
   "execution_count": 50,
   "metadata": {},
   "outputs": [],
   "source": [
    "def clean_data(df, col_list_drop_vis, col_list_drop):\n",
    "    \"\"\"\n",
    "    Perform feature trimming, re-encoding, and engineering for demographics\n",
    "    data\n",
    "    \n",
    "    INPUT: Demographics DataFrame\n",
    "    OUTPUT: Trimmed and cleaned demographics DataFrame\n",
    "    \"\"\"\n",
    "    \n",
    "    # Put in code here to execute all main cleaning steps:\n",
    "    # convert missing value codes into NaNs, ...\n",
    "    feat_info_values = feat_info.values\n",
    "\n",
    "    for i in range(feat_info_values.shape[0]):\n",
    "\n",
    "        attribute = feat_info_values[i,0]\n",
    "        missing_or_unknown = feat_info_values[i,3]\n",
    "\n",
    "        if 'XX' in missing_or_unknown:\n",
    "            missing_or_unknown = missing_or_unknown.replace(\"XX\", \"'XX'\")\n",
    "        elif 'X' in missing_or_unknown:\n",
    "            missing_or_unknown = missing_or_unknown.replace(\"X\", \"'X'\")\n",
    "\n",
    "        m_or_unk_list = ast.literal_eval(missing_or_unknown)\n",
    "        mask = df[attribute].isin(m_or_unk_list)\n",
    "        df.loc[mask, attribute] = df.loc[mask, attribute].apply(lambda x: np.nan)\n",
    "    \n",
    "    \n",
    "    # remove selected columns and rows, ...\n",
    "    nan_count_per_col = df.isnull().sum(axis = 0)\n",
    "    nan_count_per_col_val = nan_count_per_col.values\n",
    "\n",
    "    \n",
    "    # Remove the outlier columns from the dataset.\n",
    "    df = df.drop(col_list_drop_vis, axis = 1)\n",
    "    \n",
    "    # get the number of missing data in each row of the dataset\n",
    "    null_count_per_row = df.isnull().sum(axis=1)\n",
    "    null_count_per_row_val = null_count_per_row.values\n",
    "    \n",
    "    \n",
    "    upper_bound = get_iqr_upper_bound(null_count_per_row_val)\n",
    "    \n",
    "    # divide the data into two subsets based on the number of missing\n",
    "    # values in each row.\n",
    "    mask = null_count_per_row <= upper_bound\n",
    "    df = df.loc[mask]\n",
    "    \n",
    "    # Re-encode OST_WEST_KZ to binary categorical feature with numerical values.\n",
    "    val_dict = {'O':0, 'W':1} \n",
    "    df['OST_WEST_KZ'] = df['OST_WEST_KZ'].apply(lambda x: val_dict[x] if pd.notnull(x) else x)\n",
    "\n",
    "    # For consistency, re-encode VERS_TYP to binary categorical feature with 0s and 1s.\n",
    "    val_dict = {1:0, 2:1}\n",
    "    df['VERS_TYP'] = df['VERS_TYP'].apply(lambda x: val_dict[x] if pd.notnull(x) else x)\n",
    "    \n",
    "    # select, re-encode, and engineer column values.\n",
    "    # engineer \"PRAEGENDE_JUGENDJAHRE\" to two new variables.\n",
    "    # Create two new columns\n",
    "    df['PRAEGENDE_JUGENDJAHRE_GEN'] = df['PRAEGENDE_JUGENDJAHRE'].values\n",
    "    df['PRAEGENDE_JUGENDJAHRE_MOV'] = df['PRAEGENDE_JUGENDJAHRE'].values\n",
    "\n",
    "    # Populate the new columns\n",
    "    attrib_dict_gen = {1:40, 2: 40, 3: 50, 4: 50, 5: 60, 6: 60, 7: 60, 8: 70, 9: 70, 10: 80, \n",
    "                       11: 80, 12: 80, 13: 80, 14: 90, 15: 90}\n",
    "\n",
    "    # 0: Mainstream\n",
    "    # 1: Avantgarde\n",
    "    attrib_dict_mov = {1:0, 2: 1, 3: 0, 4: 1, 5: 0, 6: 1, 7: 1, 8: 0, 9: 1, 10: 0, \n",
    "                       11: 1, 12: 0, 13: 1, 14: 0, 15: 1}\n",
    "    df['PRAEGENDE_JUGENDJAHRE_GEN'] = df['PRAEGENDE_JUGENDJAHRE'].apply(\n",
    "                                                            lambda x: attrib_dict_gen[x] if pd.notnull(x) else x)\n",
    "    df['PRAEGENDE_JUGENDJAHRE_MOV'] = df['PRAEGENDE_JUGENDJAHRE'].apply(\n",
    "                                                            lambda x: attrib_dict_mov[x] if pd.notnull(x) else x)\n",
    "    # Drop the \"PRAEGENDE_JUGENDJAHRE\" column\n",
    "    df = df.drop('PRAEGENDE_JUGENDJAHRE', axis=1)\n",
    "    \n",
    "    \n",
    "    # engineer \"CAMEO_INTL_2015\" to two new variables.\n",
    "    # Create two new columns\n",
    "    df['CAMEO_INTL_2015_WEALTH'] = df['CAMEO_INTL_2015'].values\n",
    "    df['CAMEO_INTL_2015_STAGE'] = df['CAMEO_INTL_2015'].values\n",
    "\n",
    "    # Populate the new columns\n",
    "    attrib_dict_gen = {1:40, 2: 40, 3: 50, 4: 50, 5: 60, 6: 60, 7: 60, 8: 70, 9: 70, 10: 80, \n",
    "                       11: 80, 12: 80, 13: 80, 14: 90, 15: 90}\n",
    "\n",
    "    # 0: Mainstream\n",
    "    # 1: Avantgarde\n",
    "    attrib_dict_mov = {1:0, 2: 1, 3: 0, 4: 1, 5: 0, 6: 1, 7: 1, 8: 0, 9: 1, 10: 0, \n",
    "                       11: 1, 12: 0, 13: 1, 14: 0, 15: 1}\n",
    "    df['CAMEO_INTL_2015_WEALTH'] = df['CAMEO_INTL_2015'].apply(lambda x: x[0] if pd.notnull(x) else x)\n",
    "    df['CAMEO_INTL_2015_STAGE'] = df['CAMEO_INTL_2015'].apply(lambda x: x[1] if pd.notnull(x) else x)\n",
    "\n",
    "    # Drop the \"CAMEO_INTL_2015\" column\n",
    "    df = df.drop('CAMEO_INTL_2015', axis=1)\n",
    "    \n",
    "    # Get one hot encoding of categorical and mixed-type features\n",
    "    cat_col_list = ['ANREDE_KZ', 'CJT_GESAMTTYP', 'FINANZTYP', 'GFK_URLAUBERTYP', 'LP_FAMILIE_FEIN', 'LP_FAMILIE_GROB',\n",
    "                'LP_STATUS_FEIN', 'LP_STATUS_GROB', 'NATIONALITAET_KZ', 'SHOPPER_TYP',\n",
    "                'ZABEOTYP', 'GEBAEUDETYP', 'CAMEO_DEUG_2015', 'CAMEO_DEU_2015',\n",
    "                'LP_LEBENSPHASE_FEIN', 'LP_LEBENSPHASE_GROB', 'WOHNLAGE', 'PLZ8_BAUMAX']\n",
    "    df[cat_col_list] = df[cat_col_list].astype(object)\n",
    "    one_hot_col = pd.get_dummies(df[cat_col_list])\n",
    "    \n",
    "    # Drop encoded columns\n",
    "    df = df.drop(cat_col_list,axis = 1)\n",
    "\n",
    "    # Join the encoded columns to dataframe\n",
    "    df = df.join(one_hot_col)\n",
    "    \n",
    "    # Delete only available columns\n",
    "    df_col_list = df.columns\n",
    "    drop_list = []\n",
    "    for i in range(len(col_list_drop)):\n",
    "        for j in range(len(df_col_list)):\n",
    "            if col_list_drop[i] == df_col_list[j]:\n",
    "                break\n",
    "            if j == len(df_col_list)-1:\n",
    "                drop_list.append(i)\n",
    "    \n",
    "    # Delete indices not in df\n",
    "    for i in range(len(drop_list)):\n",
    "        del col_list_drop[drop_list[i]]        \n",
    "    \n",
    "    # Remove the zero outlier columns from the dataset.\n",
    "    df = df.drop(col_list_drop, axis = 1)\n",
    "    \n",
    "    \n",
    "    # Return the cleaned dataframe.\n",
    "    return df\n",
    "    "
   ]
  },
  {
   "cell_type": "markdown",
   "metadata": {},
   "source": [
    "## Step 2: Feature Transformation\n",
    "\n",
    "### Step 2.1: Apply Feature Scaling\n",
    "\n",
    "Before we apply dimensionality reduction techniques to the data, we need to perform feature scaling so that the principal component vectors are not influenced by the natural differences in scale for features. Starting from this part of the project, you'll want to keep an eye on the [API reference page for sklearn](http://scikit-learn.org/stable/modules/classes.html) to help you navigate to all of the classes and functions that you'll need. In this substep, you'll need to check the following:\n",
    "\n",
    "- sklearn requires that data not have missing values in order for its estimators to work properly. So, before applying the scaler to your data, make sure that you've cleaned the DataFrame of the remaining missing values. This can be as simple as just removing all data points with missing data, or applying an [Imputer](http://scikit-learn.org/stable/modules/generated/sklearn.preprocessing.Imputer.html) to replace all missing values. You might also try a more complicated procedure where you temporarily remove missing values in order to compute the scaling parameters before re-introducing those missing values and applying imputation. Think about how much missing data you have and what possible effects each approach might have on your analysis, and justify your decision in the discussion section below.\n",
    "- For the actual scaling function, a [StandardScaler](http://scikit-learn.org/stable/modules/generated/sklearn.preprocessing.StandardScaler.html) instance is suggested, scaling each feature to mean 0 and standard deviation 1.\n",
    "- For these classes, you can make use of the `.fit_transform()` method to both fit a procedure to the data as well as apply the transformation to the data at the same time. Don't forget to keep the fit sklearn objects handy, since you'll be applying them to the customer demographics data towards the end of the project."
   ]
  },
  {
   "cell_type": "code",
   "execution_count": 51,
   "metadata": {},
   "outputs": [
    {
     "data": {
      "text/html": [
       "<div>\n",
       "<style scoped>\n",
       "    .dataframe tbody tr th:only-of-type {\n",
       "        vertical-align: middle;\n",
       "    }\n",
       "\n",
       "    .dataframe tbody tr th {\n",
       "        vertical-align: top;\n",
       "    }\n",
       "\n",
       "    .dataframe thead th {\n",
       "        text-align: right;\n",
       "    }\n",
       "</style>\n",
       "<table border=\"1\" class=\"dataframe\">\n",
       "  <thead>\n",
       "    <tr style=\"text-align: right;\">\n",
       "      <th></th>\n",
       "      <th>ALTERSKATEGORIE_GROB</th>\n",
       "      <th>FINANZ_MINIMALIST</th>\n",
       "      <th>FINANZ_SPARER</th>\n",
       "      <th>FINANZ_VORSORGER</th>\n",
       "      <th>FINANZ_ANLEGER</th>\n",
       "      <th>FINANZ_UNAUFFAELLIGER</th>\n",
       "      <th>FINANZ_HAUSBAUER</th>\n",
       "      <th>HEALTH_TYP</th>\n",
       "      <th>RETOURTYP_BK_S</th>\n",
       "      <th>SEMIO_SOZ</th>\n",
       "      <th>...</th>\n",
       "      <th>CAMEO_INTL_2015_STAGE</th>\n",
       "      <th>ANREDE_KZ_1</th>\n",
       "      <th>ANREDE_KZ_2</th>\n",
       "      <th>FINANZTYP_6</th>\n",
       "      <th>LP_FAMILIE_FEIN_1.0</th>\n",
       "      <th>LP_FAMILIE_GROB_1.0</th>\n",
       "      <th>LP_STATUS_GROB_1.0</th>\n",
       "      <th>NATIONALITAET_KZ_1.0</th>\n",
       "      <th>GEBAEUDETYP_1.0</th>\n",
       "      <th>PLZ8_BAUMAX_1.0</th>\n",
       "    </tr>\n",
       "  </thead>\n",
       "  <tbody>\n",
       "    <tr>\n",
       "      <th>count</th>\n",
       "      <td>714288.000000</td>\n",
       "      <td>714288.000000</td>\n",
       "      <td>714288.000000</td>\n",
       "      <td>714288.000000</td>\n",
       "      <td>714288.000000</td>\n",
       "      <td>714288.000000</td>\n",
       "      <td>714288.000000</td>\n",
       "      <td>714288.000000</td>\n",
       "      <td>714288.000000</td>\n",
       "      <td>714288.000000</td>\n",
       "      <td>...</td>\n",
       "      <td>714288.000000</td>\n",
       "      <td>714288.000000</td>\n",
       "      <td>714288.000000</td>\n",
       "      <td>714288.000000</td>\n",
       "      <td>714288.000000</td>\n",
       "      <td>714288.000000</td>\n",
       "      <td>714288.000000</td>\n",
       "      <td>714288.000000</td>\n",
       "      <td>714288.000000</td>\n",
       "      <td>714288.000000</td>\n",
       "    </tr>\n",
       "    <tr>\n",
       "      <th>mean</th>\n",
       "      <td>0.004163</td>\n",
       "      <td>-0.010015</td>\n",
       "      <td>-0.003627</td>\n",
       "      <td>0.006742</td>\n",
       "      <td>-0.008475</td>\n",
       "      <td>-0.010925</td>\n",
       "      <td>0.034715</td>\n",
       "      <td>0.004000</td>\n",
       "      <td>0.003446</td>\n",
       "      <td>0.006830</td>\n",
       "      <td>...</td>\n",
       "      <td>-0.001789</td>\n",
       "      <td>-0.002251</td>\n",
       "      <td>0.002251</td>\n",
       "      <td>0.000783</td>\n",
       "      <td>0.012383</td>\n",
       "      <td>0.012383</td>\n",
       "      <td>0.011510</td>\n",
       "      <td>0.001865</td>\n",
       "      <td>0.005211</td>\n",
       "      <td>-0.011928</td>\n",
       "    </tr>\n",
       "    <tr>\n",
       "      <th>std</th>\n",
       "      <td>1.000076</td>\n",
       "      <td>0.999173</td>\n",
       "      <td>1.001614</td>\n",
       "      <td>1.001019</td>\n",
       "      <td>1.001054</td>\n",
       "      <td>0.998299</td>\n",
       "      <td>0.982987</td>\n",
       "      <td>1.000889</td>\n",
       "      <td>1.004060</td>\n",
       "      <td>1.000591</td>\n",
       "      <td>...</td>\n",
       "      <td>1.003841</td>\n",
       "      <td>0.999902</td>\n",
       "      <td>0.999902</td>\n",
       "      <td>1.000215</td>\n",
       "      <td>0.999766</td>\n",
       "      <td>0.999766</td>\n",
       "      <td>1.002199</td>\n",
       "      <td>0.998285</td>\n",
       "      <td>0.999215</td>\n",
       "      <td>1.003338</td>\n",
       "    </tr>\n",
       "    <tr>\n",
       "      <th>min</th>\n",
       "      <td>-1.767099</td>\n",
       "      <td>-1.488140</td>\n",
       "      <td>-1.151087</td>\n",
       "      <td>-1.771610</td>\n",
       "      <td>-1.247812</td>\n",
       "      <td>-1.172510</td>\n",
       "      <td>-1.532818</td>\n",
       "      <td>-1.630686</td>\n",
       "      <td>-1.681216</td>\n",
       "      <td>-1.624834</td>\n",
       "      <td>...</td>\n",
       "      <td>-1.260258</td>\n",
       "      <td>-0.958395</td>\n",
       "      <td>-1.043411</td>\n",
       "      <td>-0.762754</td>\n",
       "      <td>-1.012858</td>\n",
       "      <td>-1.012858</td>\n",
       "      <td>-0.822276</td>\n",
       "      <td>-2.275890</td>\n",
       "      <td>-1.159070</td>\n",
       "      <td>-1.326374</td>\n",
       "    </tr>\n",
       "    <tr>\n",
       "      <th>25%</th>\n",
       "      <td>-0.784164</td>\n",
       "      <td>-0.762450</td>\n",
       "      <td>-1.151087</td>\n",
       "      <td>-1.045251</td>\n",
       "      <td>-1.247812</td>\n",
       "      <td>-1.172510</td>\n",
       "      <td>-0.817895</td>\n",
       "      <td>-0.276116</td>\n",
       "      <td>-0.992984</td>\n",
       "      <td>-1.110013</td>\n",
       "      <td>...</td>\n",
       "      <td>-1.260258</td>\n",
       "      <td>-0.958395</td>\n",
       "      <td>-1.043411</td>\n",
       "      <td>-0.762754</td>\n",
       "      <td>-1.012858</td>\n",
       "      <td>-1.012858</td>\n",
       "      <td>-0.822276</td>\n",
       "      <td>0.439389</td>\n",
       "      <td>-1.159070</td>\n",
       "      <td>-1.326374</td>\n",
       "    </tr>\n",
       "    <tr>\n",
       "      <th>50%</th>\n",
       "      <td>0.198771</td>\n",
       "      <td>-0.036761</td>\n",
       "      <td>0.193996</td>\n",
       "      <td>0.407468</td>\n",
       "      <td>0.109731</td>\n",
       "      <td>-0.454983</td>\n",
       "      <td>-0.102971</td>\n",
       "      <td>-0.276116</td>\n",
       "      <td>0.383479</td>\n",
       "      <td>-0.080370</td>\n",
       "      <td>...</td>\n",
       "      <td>0.087097</td>\n",
       "      <td>-0.958395</td>\n",
       "      <td>0.958395</td>\n",
       "      <td>-0.762754</td>\n",
       "      <td>0.987305</td>\n",
       "      <td>0.987305</td>\n",
       "      <td>-0.822276</td>\n",
       "      <td>0.439389</td>\n",
       "      <td>0.862761</td>\n",
       "      <td>0.753935</td>\n",
       "    </tr>\n",
       "    <tr>\n",
       "      <th>75%</th>\n",
       "      <td>1.181706</td>\n",
       "      <td>0.688928</td>\n",
       "      <td>0.866538</td>\n",
       "      <td>1.133828</td>\n",
       "      <td>0.788502</td>\n",
       "      <td>0.980071</td>\n",
       "      <td>0.611953</td>\n",
       "      <td>1.078455</td>\n",
       "      <td>1.071711</td>\n",
       "      <td>0.949272</td>\n",
       "      <td>...</td>\n",
       "      <td>0.760774</td>\n",
       "      <td>1.043411</td>\n",
       "      <td>0.958395</td>\n",
       "      <td>1.311039</td>\n",
       "      <td>0.987305</td>\n",
       "      <td>0.987305</td>\n",
       "      <td>1.216137</td>\n",
       "      <td>0.439389</td>\n",
       "      <td>0.862761</td>\n",
       "      <td>0.753935</td>\n",
       "    </tr>\n",
       "    <tr>\n",
       "      <th>max</th>\n",
       "      <td>1.181706</td>\n",
       "      <td>1.414618</td>\n",
       "      <td>1.539080</td>\n",
       "      <td>1.133828</td>\n",
       "      <td>1.467273</td>\n",
       "      <td>1.697599</td>\n",
       "      <td>1.326876</td>\n",
       "      <td>1.078455</td>\n",
       "      <td>1.071711</td>\n",
       "      <td>1.464094</td>\n",
       "      <td>...</td>\n",
       "      <td>1.434452</td>\n",
       "      <td>1.043411</td>\n",
       "      <td>0.958395</td>\n",
       "      <td>1.311039</td>\n",
       "      <td>0.987305</td>\n",
       "      <td>0.987305</td>\n",
       "      <td>1.216137</td>\n",
       "      <td>0.439389</td>\n",
       "      <td>0.862761</td>\n",
       "      <td>0.753935</td>\n",
       "    </tr>\n",
       "  </tbody>\n",
       "</table>\n",
       "<p>8 rows × 65 columns</p>\n",
       "</div>"
      ],
      "text/plain": [
       "       ALTERSKATEGORIE_GROB  FINANZ_MINIMALIST  FINANZ_SPARER  \\\n",
       "count         714288.000000      714288.000000  714288.000000   \n",
       "mean               0.004163          -0.010015      -0.003627   \n",
       "std                1.000076           0.999173       1.001614   \n",
       "min               -1.767099          -1.488140      -1.151087   \n",
       "25%               -0.784164          -0.762450      -1.151087   \n",
       "50%                0.198771          -0.036761       0.193996   \n",
       "75%                1.181706           0.688928       0.866538   \n",
       "max                1.181706           1.414618       1.539080   \n",
       "\n",
       "       FINANZ_VORSORGER  FINANZ_ANLEGER  FINANZ_UNAUFFAELLIGER  \\\n",
       "count     714288.000000   714288.000000          714288.000000   \n",
       "mean           0.006742       -0.008475              -0.010925   \n",
       "std            1.001019        1.001054               0.998299   \n",
       "min           -1.771610       -1.247812              -1.172510   \n",
       "25%           -1.045251       -1.247812              -1.172510   \n",
       "50%            0.407468        0.109731              -0.454983   \n",
       "75%            1.133828        0.788502               0.980071   \n",
       "max            1.133828        1.467273               1.697599   \n",
       "\n",
       "       FINANZ_HAUSBAUER     HEALTH_TYP  RETOURTYP_BK_S      SEMIO_SOZ  \\\n",
       "count     714288.000000  714288.000000   714288.000000  714288.000000   \n",
       "mean           0.034715       0.004000        0.003446       0.006830   \n",
       "std            0.982987       1.000889        1.004060       1.000591   \n",
       "min           -1.532818      -1.630686       -1.681216      -1.624834   \n",
       "25%           -0.817895      -0.276116       -0.992984      -1.110013   \n",
       "50%           -0.102971      -0.276116        0.383479      -0.080370   \n",
       "75%            0.611953       1.078455        1.071711       0.949272   \n",
       "max            1.326876       1.078455        1.071711       1.464094   \n",
       "\n",
       "            ...         CAMEO_INTL_2015_STAGE    ANREDE_KZ_1    ANREDE_KZ_2  \\\n",
       "count       ...                 714288.000000  714288.000000  714288.000000   \n",
       "mean        ...                     -0.001789      -0.002251       0.002251   \n",
       "std         ...                      1.003841       0.999902       0.999902   \n",
       "min         ...                     -1.260258      -0.958395      -1.043411   \n",
       "25%         ...                     -1.260258      -0.958395      -1.043411   \n",
       "50%         ...                      0.087097      -0.958395       0.958395   \n",
       "75%         ...                      0.760774       1.043411       0.958395   \n",
       "max         ...                      1.434452       1.043411       0.958395   \n",
       "\n",
       "         FINANZTYP_6  LP_FAMILIE_FEIN_1.0  LP_FAMILIE_GROB_1.0  \\\n",
       "count  714288.000000        714288.000000        714288.000000   \n",
       "mean        0.000783             0.012383             0.012383   \n",
       "std         1.000215             0.999766             0.999766   \n",
       "min        -0.762754            -1.012858            -1.012858   \n",
       "25%        -0.762754            -1.012858            -1.012858   \n",
       "50%        -0.762754             0.987305             0.987305   \n",
       "75%         1.311039             0.987305             0.987305   \n",
       "max         1.311039             0.987305             0.987305   \n",
       "\n",
       "       LP_STATUS_GROB_1.0  NATIONALITAET_KZ_1.0  GEBAEUDETYP_1.0  \\\n",
       "count       714288.000000         714288.000000    714288.000000   \n",
       "mean             0.011510              0.001865         0.005211   \n",
       "std              1.002199              0.998285         0.999215   \n",
       "min             -0.822276             -2.275890        -1.159070   \n",
       "25%             -0.822276              0.439389        -1.159070   \n",
       "50%             -0.822276              0.439389         0.862761   \n",
       "75%              1.216137              0.439389         0.862761   \n",
       "max              1.216137              0.439389         0.862761   \n",
       "\n",
       "       PLZ8_BAUMAX_1.0  \n",
       "count    714288.000000  \n",
       "mean         -0.011928  \n",
       "std           1.003338  \n",
       "min          -1.326374  \n",
       "25%          -1.326374  \n",
       "50%           0.753935  \n",
       "75%           0.753935  \n",
       "max           0.753935  \n",
       "\n",
       "[8 rows x 65 columns]"
      ]
     },
     "execution_count": 51,
     "metadata": {},
     "output_type": "execute_result"
    }
   ],
   "source": [
    "azdias = azdias.apply(pd.to_numeric)\n",
    "\n",
    "# If you've not yet cleaned the dataset of all NaN values, then investigate and\n",
    "# do that now.\n",
    "azdias = azdias.fillna(azdias.mean(axis=0))\n",
    "\n",
    "# Apply feature scaling to the general population demographics data.\n",
    "scaler = StandardScaler()\n",
    "scaled_data = scaler.fit_transform(azdias.values)\n",
    "azdias = pd.DataFrame(data = scaled_data, columns = azdias.columns)\n",
    "\n",
    "# Remove outlier rows, with values greater than 3 standard deviations\n",
    "azdias = azdias[azdias.apply(lambda x: np.abs(x - x.mean()) / x.std() <= 3).all(axis=1)]\n",
    "\n",
    "azdias.describe()"
   ]
  },
  {
   "cell_type": "code",
   "execution_count": 52,
   "metadata": {},
   "outputs": [
    {
     "data": {
      "text/plain": [
       "(714288, 65)"
      ]
     },
     "execution_count": 52,
     "metadata": {},
     "output_type": "execute_result"
    }
   ],
   "source": [
    "azdias.shape"
   ]
  },
  {
   "cell_type": "markdown",
   "metadata": {},
   "source": [
    "### Discussion 2.1: Apply Feature Scaling\n",
    "\n",
    "(Double-click this cell and replace this text with your own text, reporting your decisions regarding feature scaling.)\n",
    "\n",
    "To successfully apply feature scaling, the null values in the dataframe were replaced, each with the mean value of the column it belongs. The mean value was chosen as replacement because the scaler employed is the StandardScaler which returns a mean of zero. That is the impact of null values on computation is being minimised. The StandardScaler has the additional advantage of removing excess zero values from the dataset, which makes computation more stable."
   ]
  },
  {
   "cell_type": "markdown",
   "metadata": {},
   "source": [
    "### Step 2.2: Perform Dimensionality Reduction\n",
    "\n",
    "On your scaled data, you are now ready to apply dimensionality reduction techniques.\n",
    "\n",
    "- Use sklearn's [PCA](http://scikit-learn.org/stable/modules/generated/sklearn.decomposition.PCA.html) class to apply principal component analysis on the data, thus finding the vectors of maximal variance in the data. To start, you should not set any parameters (so all components are computed) or set a number of components that is at least half the number of features (so there's enough features to see the general trend in variability).\n",
    "- Check out the ratio of variance explained by each principal component as well as the cumulative variance explained by combining the principal components. Try plotting the cumulative or sequential values using matplotlib's [`plot()`](https://matplotlib.org/api/_as_gen/matplotlib.pyplot.plot.html) function. Based on what you find, select a value for the number of transformed features you'll retain for the clustering part of the project.\n",
    "- Once you've made a choice for the number of components to keep, make sure you re-fit a PCA instance to perform the decided-on transformation."
   ]
  },
  {
   "cell_type": "code",
   "execution_count": 59,
   "metadata": {},
   "outputs": [],
   "source": [
    "# Apply PCA to the data.\n",
    "scaled_data = azdias.values\n",
    "X = scaled_data\n",
    "pca = PCA(random_state=0)\n",
    "X_pca_gen = pca.fit_transform(X)"
   ]
  },
  {
   "cell_type": "code",
   "execution_count": 60,
   "metadata": {},
   "outputs": [],
   "source": [
    "def scree_plot(pca):\n",
    "    '''\n",
    "    Creates a scree plot associated with the principal components \n",
    "    \n",
    "    INPUT: pca - the result of instantian of PCA in scikit learn\n",
    "            \n",
    "    OUTPUT:\n",
    "            None\n",
    "    '''\n",
    "    num_components = len(pca.explained_variance_ratio_)\n",
    "    ind = np.arange(num_components)\n",
    "    vals = pca.explained_variance_ratio_\n",
    "    \n",
    " \n",
    "    plt.figure(figsize=(10, 6))\n",
    "    ax = plt.subplot(111)\n",
    "    cumvals = np.cumsum(vals)\n",
    "    ax.bar(ind, vals)\n",
    "    ax.plot(ind, cumvals)\n",
    "    for i in range(num_components):\n",
    "        ax.annotate(r\"%s%%\" % ((str(vals[i]*100)[:4])), (ind[i]+0.2, vals[i]), va=\"bottom\", ha=\"center\", fontsize=12)\n",
    " \n",
    "    ax.xaxis.set_tick_params(width=0)\n",
    "    ax.yaxis.set_tick_params(width=2, length=12)\n",
    " \n",
    "    ax.set_xlabel(\"Principal Component\")\n",
    "    ax.set_ylabel(\"Variance Explained (%)\")\n",
    "    plt.title('Explained Variance Per Principal Component')"
   ]
  },
  {
   "cell_type": "code",
   "execution_count": 61,
   "metadata": {},
   "outputs": [
    {
     "data": {
      "image/png": "[encoded data removed]",
      "text/plain": [
       "<matplotlib.figure.Figure at 0x7f749856e320>"
      ]
     },
     "metadata": {
      "needs_background": "light"
     },
     "output_type": "display_data"
    }
   ],
   "source": [
    "# Investigate the variance accounted for by each principal component.\n",
    "scree_plot(pca)"
   ]
  },
  {
   "cell_type": "code",
   "execution_count": 64,
   "metadata": {},
   "outputs": [
    {
     "name": "stdout",
     "output_type": "stream",
     "text": [
      "Number of components covering 80% variance:  20\n"
     ]
    }
   ],
   "source": [
    "vals = pca.explained_variance_ratio_\n",
    "cumvals = np.cumsum(vals)\n",
    "for i in range(len(cumvals)):\n",
    "    if cumvals[i] >= 0.80:\n",
    "        print(\"Number of components covering 80% variance: \", i+1)\n",
    "        break"
   ]
  },
  {
   "cell_type": "code",
   "execution_count": 65,
   "metadata": {},
   "outputs": [],
   "source": [
    "# Re-apply PCA to the data while selecting the number of components to retain.\n",
    "scaled_data = azdias.values\n",
    "X = scaled_data\n",
    "num_components = 20\n",
    "pca = PCA(num_components, random_state=0)\n",
    "X_pca_gen = pca.fit_transform(X)"
   ]
  },
  {
   "cell_type": "markdown",
   "metadata": {},
   "source": [
    "##### Discussion 2.2: Perform Dimensionality Reduction\n",
    "\n",
    "(Double-click this cell and replace this text with your own text, reporting your findings and decisions regarding dimensionality reduction. How many principal components / transformed features are you retaining for the next step of the analysis?)\n",
    "\n",
    "The standardised dataset has 65 features. 99% of the variance in the dataset can be explained by 57 components. The scree plot levels off after about 57 components. 20 components have been chosen as the preferable number of principal components as it covers 80% of the variability in the dataset. Retaining 80% of the variability reasonably accounts for most variance in the dataset while eliminating noise."
   ]
  },
  {
   "cell_type": "markdown",
   "metadata": {},
   "source": [
    "### Step 2.3: Interpret Principal Components\n",
    "\n",
    "Now that we have our transformed principal components, it's a nice idea to check out the weight of each variable (element) of the first few components to see if they can be interpreted in some fashion.\n",
    "\n",
    "As a reminder, each principal component is a unit vector that points in the direction of highest variance (after accounting for the variance captured by earlier principal components). The further a weight is from zero, the more the principal component is in the direction of the corresponding feature. If two features have large weights of the same sign (both positive or both negative), then increases in one is then expected to be associated with increases in the other. To contrast, features with different signs can be expected to show a negative correlation: increases in one variable should result in a decrease in the other.\n",
    "\n",
    "- To investigate the features, you should map each weight to their corresponding feature name, then sort the features according to weight. The most interesting features for each principal component, then, will be those at the beginning and end of the sorted list. Use the data dictionary document to help you understand these most prominent features, their relationships, and what a positive or negative value on the principal component might indicate.\n",
    "- You should investigate and interpret feature associations from the first three principal components in this substep. To help facilitate this, you should write a function that you can call at any time to print the sorted list of feature weights, for the *i*-th principal component. This might come in handy in the next step of the project, when you interpret the tendencies of the discovered clusters."
   ]
  },
  {
   "cell_type": "code",
   "execution_count": 66,
   "metadata": {},
   "outputs": [],
   "source": [
    "def pca_results(full_dataset, pca, component_idx):\n",
    "    '''\n",
    "    Create a DataFrame of the PCA results\n",
    "    Includes dimension feature weights and explained variance\n",
    "    Visualizes the PCA results\n",
    "    '''\n",
    "\n",
    "    # Dimension indexing\n",
    "    dimensions = ['Component {}'.format(component_idx)]\n",
    "\n",
    "    # PCA components\n",
    "    len_pca = len(pca.components_[component_idx])\n",
    "    pca_comp = pca.components_[component_idx].reshape(1,len_pca)\n",
    "    components = pd.DataFrame(np.round(pca_comp, 4), columns = full_dataset.keys())\n",
    "    components.index = dimensions\n",
    "    \n",
    "    # sort the features according to weight\n",
    "    components = components.sort_values(by=dimensions[0], axis=1, ascending=False)\n",
    "    \n",
    "    # Create a bar plot visualization\n",
    "    fig, ax = plt.subplots(figsize = (14,8))\n",
    "\n",
    "    # Plot the feature weights as a function of the components\n",
    "    components.plot(ax = ax, kind = 'bar', legend=False);\n",
    "    ax.set_ylabel(\"Feature Weights\")\n",
    "    ax.set_xticklabels(dimensions, rotation=0)\n",
    "\n",
    "\n",
    "    # Display the explained variance ratios\n",
    "    ev = pca.explained_variance_ratio_[component_idx]\n",
    "    ax.text(-0.40, ax.get_ylim()[1] + 0.05, \"Explained Variance\\n  %.4f\"%(ev))\n",
    "\n",
    "    # Return a concatenated DataFrame\n",
    "    return  components"
   ]
  },
  {
   "cell_type": "code",
   "execution_count": 67,
   "metadata": {
    "scrolled": false
   },
   "outputs": [
    {
     "data": {
      "text/html": [
       "<div>\n",
       "<style scoped>\n",
       "    .dataframe tbody tr th:only-of-type {\n",
       "        vertical-align: middle;\n",
       "    }\n",
       "\n",
       "    .dataframe tbody tr th {\n",
       "        vertical-align: top;\n",
       "    }\n",
       "\n",
       "    .dataframe thead th {\n",
       "        text-align: right;\n",
       "    }\n",
       "</style>\n",
       "<table border=\"1\" class=\"dataframe\">\n",
       "  <thead>\n",
       "    <tr style=\"text-align: right;\">\n",
       "      <th></th>\n",
       "      <th>PLZ8_ANTG3</th>\n",
       "      <th>LP_STATUS_GROB_1.0</th>\n",
       "      <th>PLZ8_ANTG4</th>\n",
       "      <th>CAMEO_INTL_2015_WEALTH</th>\n",
       "      <th>ORTSGR_KLS9</th>\n",
       "      <th>EWDICHTE</th>\n",
       "      <th>HH_EINKOMMEN_SCORE</th>\n",
       "      <th>PLZ8_ANTG2</th>\n",
       "      <th>FINANZ_SPARER</th>\n",
       "      <th>FINANZ_HAUSBAUER</th>\n",
       "      <th>...</th>\n",
       "      <th>CAMEO_INTL_2015_STAGE</th>\n",
       "      <th>PLZ8_GBZ</th>\n",
       "      <th>INNENSTADT</th>\n",
       "      <th>KONSUMNAEHE</th>\n",
       "      <th>KBA05_GBZ</th>\n",
       "      <th>PLZ8_BAUMAX_1.0</th>\n",
       "      <th>FINANZ_MINIMALIST</th>\n",
       "      <th>KBA05_ANTG1</th>\n",
       "      <th>PLZ8_ANTG1</th>\n",
       "      <th>MOBI_REGIO</th>\n",
       "    </tr>\n",
       "  </thead>\n",
       "  <tbody>\n",
       "    <tr>\n",
       "      <th>Component 0</th>\n",
       "      <td>0.2247</td>\n",
       "      <td>0.2114</td>\n",
       "      <td>0.2101</td>\n",
       "      <td>0.1952</td>\n",
       "      <td>0.1921</td>\n",
       "      <td>0.1911</td>\n",
       "      <td>0.1879</td>\n",
       "      <td>0.1648</td>\n",
       "      <td>0.1511</td>\n",
       "      <td>0.1475</td>\n",
       "      <td>...</td>\n",
       "      <td>-0.1246</td>\n",
       "      <td>-0.1563</td>\n",
       "      <td>-0.1607</td>\n",
       "      <td>-0.1647</td>\n",
       "      <td>-0.2005</td>\n",
       "      <td>-0.2128</td>\n",
       "      <td>-0.2144</td>\n",
       "      <td>-0.2163</td>\n",
       "      <td>-0.2207</td>\n",
       "      <td>-0.2279</td>\n",
       "    </tr>\n",
       "  </tbody>\n",
       "</table>\n",
       "<p>1 rows × 65 columns</p>\n",
       "</div>"
      ],
      "text/plain": [
       "             PLZ8_ANTG3  LP_STATUS_GROB_1.0  PLZ8_ANTG4  \\\n",
       "Component 0      0.2247              0.2114      0.2101   \n",
       "\n",
       "             CAMEO_INTL_2015_WEALTH  ORTSGR_KLS9  EWDICHTE  \\\n",
       "Component 0                  0.1952       0.1921    0.1911   \n",
       "\n",
       "             HH_EINKOMMEN_SCORE  PLZ8_ANTG2  FINANZ_SPARER  FINANZ_HAUSBAUER  \\\n",
       "Component 0              0.1879      0.1648         0.1511            0.1475   \n",
       "\n",
       "                ...      CAMEO_INTL_2015_STAGE  PLZ8_GBZ  INNENSTADT  \\\n",
       "Component 0     ...                    -0.1246   -0.1563     -0.1607   \n",
       "\n",
       "             KONSUMNAEHE  KBA05_GBZ  PLZ8_BAUMAX_1.0  FINANZ_MINIMALIST  \\\n",
       "Component 0      -0.1647    -0.2005          -0.2128            -0.2144   \n",
       "\n",
       "             KBA05_ANTG1  PLZ8_ANTG1  MOBI_REGIO  \n",
       "Component 0      -0.2163     -0.2207     -0.2279  \n",
       "\n",
       "[1 rows x 65 columns]"
      ]
     },
     "execution_count": 67,
     "metadata": {},
     "output_type": "execute_result"
    },
    {
     "data": {
      "image/png": "[encoded data removed]",
      "text/plain": [
       "<matplotlib.figure.Figure at 0x7f7498586a20>"
      ]
     },
     "metadata": {
      "needs_background": "light"
     },
     "output_type": "display_data"
    }
   ],
   "source": [
    "# Map weights for the first principal component to corresponding feature names\n",
    "# and then print the linked values, sorted by weight.\n",
    "# HINT: Try defining a function here or in a new cell that you can reuse in the\n",
    "# other cells.\n",
    "pca_results(azdias, pca, component_idx=0)"
   ]
  },
  {
   "cell_type": "code",
   "execution_count": 68,
   "metadata": {
    "scrolled": false
   },
   "outputs": [
    {
     "data": {
      "text/html": [
       "<div>\n",
       "<style scoped>\n",
       "    .dataframe tbody tr th:only-of-type {\n",
       "        vertical-align: middle;\n",
       "    }\n",
       "\n",
       "    .dataframe tbody tr th {\n",
       "        vertical-align: top;\n",
       "    }\n",
       "\n",
       "    .dataframe thead th {\n",
       "        text-align: right;\n",
       "    }\n",
       "</style>\n",
       "<table border=\"1\" class=\"dataframe\">\n",
       "  <thead>\n",
       "    <tr style=\"text-align: right;\">\n",
       "      <th></th>\n",
       "      <th>SEMIO_REL</th>\n",
       "      <th>SEMIO_KULT</th>\n",
       "      <th>PRAEGENDE_JUGENDJAHRE_GEN</th>\n",
       "      <th>FINANZ_SPARER</th>\n",
       "      <th>SEMIO_PFLICHT</th>\n",
       "      <th>SEMIO_TRADV</th>\n",
       "      <th>FINANZ_UNAUFFAELLIGER</th>\n",
       "      <th>SEMIO_FAM</th>\n",
       "      <th>FINANZ_ANLEGER</th>\n",
       "      <th>SEMIO_MAT</th>\n",
       "      <th>...</th>\n",
       "      <th>W_KEIT_KIND_HH</th>\n",
       "      <th>FINANZ_HAUSBAUER</th>\n",
       "      <th>ANREDE_KZ_2</th>\n",
       "      <th>SEMIO_KRIT</th>\n",
       "      <th>SEMIO_KAEM</th>\n",
       "      <th>RETOURTYP_BK_S</th>\n",
       "      <th>SEMIO_LUST</th>\n",
       "      <th>FINANZ_VORSORGER</th>\n",
       "      <th>SEMIO_ERL</th>\n",
       "      <th>ALTERSKATEGORIE_GROB</th>\n",
       "    </tr>\n",
       "  </thead>\n",
       "  <tbody>\n",
       "    <tr>\n",
       "      <th>Component 1</th>\n",
       "      <td>0.2556</td>\n",
       "      <td>0.2354</td>\n",
       "      <td>0.2337</td>\n",
       "      <td>0.2184</td>\n",
       "      <td>0.2178</td>\n",
       "      <td>0.2162</td>\n",
       "      <td>0.212</td>\n",
       "      <td>0.1981</td>\n",
       "      <td>0.1828</td>\n",
       "      <td>0.1589</td>\n",
       "      <td>...</td>\n",
       "      <td>-0.111</td>\n",
       "      <td>-0.116</td>\n",
       "      <td>-0.122</td>\n",
       "      <td>-0.1395</td>\n",
       "      <td>-0.141</td>\n",
       "      <td>-0.1534</td>\n",
       "      <td>-0.1686</td>\n",
       "      <td>-0.2153</td>\n",
       "      <td>-0.2388</td>\n",
       "      <td>-0.244</td>\n",
       "    </tr>\n",
       "  </tbody>\n",
       "</table>\n",
       "<p>1 rows × 65 columns</p>\n",
       "</div>"
      ],
      "text/plain": [
       "             SEMIO_REL  SEMIO_KULT  PRAEGENDE_JUGENDJAHRE_GEN  FINANZ_SPARER  \\\n",
       "Component 1     0.2556      0.2354                     0.2337         0.2184   \n",
       "\n",
       "             SEMIO_PFLICHT  SEMIO_TRADV  FINANZ_UNAUFFAELLIGER  SEMIO_FAM  \\\n",
       "Component 1         0.2178       0.2162                  0.212     0.1981   \n",
       "\n",
       "             FINANZ_ANLEGER  SEMIO_MAT          ...           W_KEIT_KIND_HH  \\\n",
       "Component 1          0.1828     0.1589          ...                   -0.111   \n",
       "\n",
       "             FINANZ_HAUSBAUER  ANREDE_KZ_2  SEMIO_KRIT  SEMIO_KAEM  \\\n",
       "Component 1            -0.116       -0.122     -0.1395      -0.141   \n",
       "\n",
       "             RETOURTYP_BK_S  SEMIO_LUST  FINANZ_VORSORGER  SEMIO_ERL  \\\n",
       "Component 1         -0.1534     -0.1686           -0.2153    -0.2388   \n",
       "\n",
       "             ALTERSKATEGORIE_GROB  \n",
       "Component 1                -0.244  \n",
       "\n",
       "[1 rows x 65 columns]"
      ]
     },
     "execution_count": 68,
     "metadata": {},
     "output_type": "execute_result"
    },
    {
     "data": {
      "image/png": "[encoded data removed]",
      "text/plain": [
       "<matplotlib.figure.Figure at 0x7f749a44c908>"
      ]
     },
     "metadata": {
      "needs_background": "light"
     },
     "output_type": "display_data"
    }
   ],
   "source": [
    "# Map weights for the second principal component to corresponding feature names\n",
    "# and then print the linked values, sorted by weight.\n",
    "pca_results(azdias, pca, component_idx=1)"
   ]
  },
  {
   "cell_type": "code",
   "execution_count": 69,
   "metadata": {
    "scrolled": false
   },
   "outputs": [
    {
     "data": {
      "text/html": [
       "<div>\n",
       "<style scoped>\n",
       "    .dataframe tbody tr th:only-of-type {\n",
       "        vertical-align: middle;\n",
       "    }\n",
       "\n",
       "    .dataframe tbody tr th {\n",
       "        vertical-align: top;\n",
       "    }\n",
       "\n",
       "    .dataframe thead th {\n",
       "        text-align: right;\n",
       "    }\n",
       "</style>\n",
       "<table border=\"1\" class=\"dataframe\">\n",
       "  <thead>\n",
       "    <tr style=\"text-align: right;\">\n",
       "      <th></th>\n",
       "      <th>ANREDE_KZ_1</th>\n",
       "      <th>SEMIO_VERT</th>\n",
       "      <th>SEMIO_SOZ</th>\n",
       "      <th>SEMIO_FAM</th>\n",
       "      <th>SEMIO_KULT</th>\n",
       "      <th>FINANZ_MINIMALIST</th>\n",
       "      <th>RETOURTYP_BK_S</th>\n",
       "      <th>FINANZ_VORSORGER</th>\n",
       "      <th>ALTERSKATEGORIE_GROB</th>\n",
       "      <th>W_KEIT_KIND_HH</th>\n",
       "      <th>...</th>\n",
       "      <th>FINANZ_UNAUFFAELLIGER</th>\n",
       "      <th>FINANZ_SPARER</th>\n",
       "      <th>PRAEGENDE_JUGENDJAHRE_GEN</th>\n",
       "      <th>SEMIO_ERL</th>\n",
       "      <th>FINANZ_ANLEGER</th>\n",
       "      <th>SEMIO_RAT</th>\n",
       "      <th>SEMIO_KRIT</th>\n",
       "      <th>SEMIO_DOM</th>\n",
       "      <th>SEMIO_KAEM</th>\n",
       "      <th>ANREDE_KZ_2</th>\n",
       "    </tr>\n",
       "  </thead>\n",
       "  <tbody>\n",
       "    <tr>\n",
       "      <th>Component 2</th>\n",
       "      <td>0.3404</td>\n",
       "      <td>0.3164</td>\n",
       "      <td>0.2329</td>\n",
       "      <td>0.2105</td>\n",
       "      <td>0.1933</td>\n",
       "      <td>0.1523</td>\n",
       "      <td>0.12</td>\n",
       "      <td>0.1162</td>\n",
       "      <td>0.1059</td>\n",
       "      <td>0.1</td>\n",
       "      <td>...</td>\n",
       "      <td>-0.1182</td>\n",
       "      <td>-0.1218</td>\n",
       "      <td>-0.1251</td>\n",
       "      <td>-0.1353</td>\n",
       "      <td>-0.1941</td>\n",
       "      <td>-0.2253</td>\n",
       "      <td>-0.2357</td>\n",
       "      <td>-0.2847</td>\n",
       "      <td>-0.3065</td>\n",
       "      <td>-0.3404</td>\n",
       "    </tr>\n",
       "  </tbody>\n",
       "</table>\n",
       "<p>1 rows × 65 columns</p>\n",
       "</div>"
      ],
      "text/plain": [
       "             ANREDE_KZ_1  SEMIO_VERT  SEMIO_SOZ  SEMIO_FAM  SEMIO_KULT  \\\n",
       "Component 2       0.3404      0.3164     0.2329     0.2105      0.1933   \n",
       "\n",
       "             FINANZ_MINIMALIST  RETOURTYP_BK_S  FINANZ_VORSORGER  \\\n",
       "Component 2             0.1523            0.12            0.1162   \n",
       "\n",
       "             ALTERSKATEGORIE_GROB  W_KEIT_KIND_HH     ...       \\\n",
       "Component 2                0.1059             0.1     ...        \n",
       "\n",
       "             FINANZ_UNAUFFAELLIGER  FINANZ_SPARER  PRAEGENDE_JUGENDJAHRE_GEN  \\\n",
       "Component 2                -0.1182        -0.1218                    -0.1251   \n",
       "\n",
       "             SEMIO_ERL  FINANZ_ANLEGER  SEMIO_RAT  SEMIO_KRIT  SEMIO_DOM  \\\n",
       "Component 2    -0.1353         -0.1941    -0.2253     -0.2357    -0.2847   \n",
       "\n",
       "             SEMIO_KAEM  ANREDE_KZ_2  \n",
       "Component 2     -0.3065      -0.3404  \n",
       "\n",
       "[1 rows x 65 columns]"
      ]
     },
     "execution_count": 69,
     "metadata": {},
     "output_type": "execute_result"
    },
    {
     "data": {
      "image/png": "[encoded data removed]",
      "text/plain": [
       "<matplotlib.figure.Figure at 0x7f749a4cf898>"
      ]
     },
     "metadata": {
      "needs_background": "light"
     },
     "output_type": "display_data"
    }
   ],
   "source": [
    "# Map weights for the third principal component to corresponding feature names\n",
    "# and then print the linked values, sorted by weight.\n",
    "pca_results(azdias, pca, component_idx=2)"
   ]
  },
  {
   "cell_type": "markdown",
   "metadata": {},
   "source": [
    "### Discussion 2.3: Interpret Principal Components\n",
    "\n",
    "(Double-click this cell and replace this text with your own text, reporting your observations from detailed investigation of the first few principal components generated. Can we interpret positive and negative values from them in a meaningful way?)\n",
    "\n",
    "The first principal component has an explained variance of about 18.0%, the second component has explained variance of 13.9%, while the third component has variance coverage of 10.9%.\n",
    "\n",
    "The top features the first component correlates to, are PLZ8_ANTG3, LP_STATUS_GROB_1.0, and PLZ8_ANTG4 in the positive direction, and KBA05_GBZ, PLZ8_BAUMAX_1.0, FINANZ_MINIMALIST, KBA05_ANTG1, PLZ8_ANTG1, and MOBI_REGIO in the reverse direction. The first component increases with increase in PLZ8_ANTG3, LP_STATUS_GROB_1.0, and PLZ8_ANTG4, which suggests those features are directly proportional to each other. The first component will also increase with a decrease in the magnitude of KBA05_GBZ, PLZ8_BAUMAX_1.0, FINANZ_MINIMALIST, KBA05_ANTG1, PLZ8_ANTG1, and MOBI_REGIO. It seems the component measures mainly those who score high in PLZ8_ANTG3 and PLZ8_ANTG4 features and low in KBA05_ANTG1 and PLZ8_ANTG1 features, suggesting it measures the size of family houses.\n",
    "\n",
    "The top features the second component correlates to, are SEMIO_REL, SEMIO_KULT, PRAEGENDE_JUGENDJAHRE_GEN, FINANZ_SPARER, SEMIO_PFLICHT, SEMIO_TRADV, and FINANZ_UNAUFFAELLIGER positively, and FINANZ_VORSORGER, SEMIO_ERL, and ALTERSKATEGORIE_GROB in the reverse direction. The second component increases with increase in SEMIO_REL, SEMIO_KULT, PRAEGENDE_JUGENDJAHRE_GEN, FINANZ_SPARER, SEMIO_PFLICHT, SEMIO_TRADV, and FINANZ_UNAUFFAELLIGER. The second component will also increase with a decrease in the magnitude of FINANZ_VORSORGER, SEMIO_ERL, and ALTERSKATEGORIE_GROB. It seems the component measures the age of the distribution and age related traits.\n",
    "\n",
    "The top features the third component correlates to, are ANREDE_KZ_1 and SEMIO_VERT positively, as well as to SEMIO_KAEM and ANREDE_KZ_2 negatively. The third component increases with increase in ANREDE_KZ_1 and SEMIO_VERT. The third component will also increase with a decrease in the magnitude of SEMIO_KAEM and ANREDE_KZ_2. It seems the component measures gender and gender traits."
   ]
  },
  {
   "cell_type": "markdown",
   "metadata": {},
   "source": [
    "## Step 3: Clustering\n",
    "\n",
    "### Step 3.1: Apply Clustering to General Population\n",
    "\n",
    "You've assessed and cleaned the demographics data, then scaled and transformed them. Now, it's time to see how the data clusters in the principal components space. In this substep, you will apply k-means clustering to the dataset and use the average intra-cluster distance from each point to their assigned cluster's centroid to decide on a number of clusters to keep.\n",
    "\n",
    "- Use sklearn's [KMeans](http://scikit-learn.org/stable/modules/generated/sklearn.cluster.KMeans.html#sklearn.cluster.KMeans) class to perform k-means clustering on the PCA-transformed data.\n",
    "- Then, compute the average difference from each point to its assigned cluster's center. **Hint**: The KMeans object's `.score()` method might be useful here, but note that in sklearn, scores tend to be defined so that larger is better. Try applying it to a small, toy dataset, or use an internet search to help your understanding.\n",
    "- Perform the above two steps for a number of different cluster counts. You can then see how the average distance decreases with an increasing number of clusters. However, each additional cluster provides a smaller net benefit. Use this fact to select a final number of clusters in which to group the data. **Warning**: because of the large size of the dataset, it can take a long time for the algorithm to resolve. The more clusters to fit, the longer the algorithm will take. You should test for cluster counts through at least 10 clusters to get the full picture, but you shouldn't need to test for a number of clusters above about 30.\n",
    "- Once you've selected a final number of clusters to use, re-fit a KMeans instance to perform the clustering operation. Make sure that you also obtain the cluster assignments for the general demographics data, since you'll be using them in the final Step 3.3."
   ]
  },
  {
   "cell_type": "code",
   "execution_count": 70,
   "metadata": {},
   "outputs": [],
   "source": [
    "# Obtain the absolute score for each model\n",
    "def get_kmeans_score(data, center):\n",
    "    '''\n",
    "    returns the kmeans score regarding SSE for points to centers\n",
    "    INPUT:\n",
    "        data - the dataset you want to fit kmeans to\n",
    "        center - the number of centers you want (the k value)\n",
    "    OUTPUT:\n",
    "        score - the SSE score for the kmeans model fit to the data\n",
    "    '''\n",
    "    #instantiate kmeans\n",
    "    kmeans = KMeans(n_clusters=center, random_state=0)\n",
    "\n",
    "    # Then fit the model to your data using the fit method\n",
    "    model = kmeans.fit(data)\n",
    "    \n",
    "    # Obtain a score related to the model fit\n",
    "    score = np.abs(model.score(data))\n",
    "    \n",
    "    return score"
   ]
  },
  {
   "cell_type": "code",
   "execution_count": 83,
   "metadata": {},
   "outputs": [
    {
     "name": "stdout",
     "output_type": "stream",
     "text": [
      "center:  1 \t time(s):  4\n",
      "center:  6 \t time(s):  57\n",
      "center:  11 \t time(s):  158\n",
      "center:  16 \t time(s):  189\n"
     ]
    }
   ],
   "source": [
    "# Over a number of different cluster counts...\n",
    "# run k-means clustering on the data and...\n",
    "# compute the average within-cluster distances.\n",
    "scores = []\n",
    "centers = list(range(1,20,5))\n",
    "\n",
    "for center in centers:\n",
    "    start = int(time.time())\n",
    "    scores.append(get_kmeans_score(X_pca_gen, center))\n",
    "    stop = int(time.time())\n",
    "    time_secs = stop - start\n",
    "    print(\"center: \", center, \"\\t time(s): \", time_secs)"
   ]
  },
  {
   "cell_type": "code",
   "execution_count": 84,
   "metadata": {},
   "outputs": [
    {
     "data": {
      "image/png": "[encoded data removed]",
      "text/plain": [
       "<matplotlib.figure.Figure at 0x7f749a6a4128>"
      ]
     },
     "metadata": {
      "needs_background": "light"
     },
     "output_type": "display_data"
    }
   ],
   "source": [
    "# Investigate the change in intra-cluster distance across number of clusters.\n",
    "# HINT: Use matplotlib's plot function to visualize this relationship.\n",
    "plt.plot(centers, scores, linestyle='--', marker='o', color='b');\n",
    "plt.xlabel('K');\n",
    "plt.ylabel('SCORE');\n",
    "plt.title('SCORE vs. K');"
   ]
  },
  {
   "cell_type": "code",
   "execution_count": 71,
   "metadata": {},
   "outputs": [],
   "source": [
    "# Re-fit the k-means model with the selected number of clusters and obtain\n",
    "# cluster predictions for the general population demographics data.\n",
    "kmeans = KMeans(n_clusters=3, random_state=0)\n",
    "\n",
    "# Then fit the model to your data using the fit method\n",
    "model = kmeans.fit(X_pca_gen)\n",
    "\n",
    "# Finally predict the labels on the same data to show the category that point belongs to\n",
    "labels_gen = model.predict(X_pca_gen)"
   ]
  },
  {
   "cell_type": "markdown",
   "metadata": {},
   "source": [
    "### Discussion 3.1: Apply Clustering to General Population\n",
    "\n",
    "(Double-click this cell and replace this text with your own text, reporting your findings and decisions regarding clustering. Into how many clusters have you decided to segment the population?)\n",
    "\n",
    "The general population dataset was clustered with as many as 51 centroids and yet no clear elbow was seen. It seems similar to the case where there is only a single centroid. The general dataset was finally clustered to three centroids to represent customers with low, medium and high earning potential.\n",
    "\n",
    "References\n",
    "\n",
    "Towards Data Science. (2019). The Lonely Cluster. [online] Available at: https://towardsdatascience.com/the-lonely-cluster-6f09abf8a5a4 [Accessed 5 Apr. 2019]."
   ]
  },
  {
   "cell_type": "markdown",
   "metadata": {},
   "source": [
    "### Step 3.2: Apply All Steps to the Customer Data\n",
    "\n",
    "Now that you have clusters and cluster centers for the general population, it's time to see how the customer data maps on to those clusters. Take care to not confuse this for re-fitting all of the models to the customer data. Instead, you're going to use the fits from the general population to clean, transform, and cluster the customer data. In the last step of the project, you will interpret how the general population fits apply to the customer data.\n",
    "\n",
    "- Don't forget when loading in the customers data, that it is semicolon (`;`) delimited.\n",
    "- Apply the same feature wrangling, selection, and engineering steps to the customer demographics using the `clean_data()` function you created earlier. (You can assume that the customer demographics data has similar meaning behind missing data patterns as the general demographics data.)\n",
    "- Use the sklearn objects from the general demographics data, and apply their transformations to the customers data. That is, you should not be using a `.fit()` or `.fit_transform()` method to re-fit the old objects, nor should you be creating new sklearn objects! Carry the data through the feature scaling, PCA, and clustering steps, obtaining cluster assignments for all of the data in the customer demographics data."
   ]
  },
  {
   "cell_type": "code",
   "execution_count": 72,
   "metadata": {},
   "outputs": [
    {
     "name": "stdout",
     "output_type": "stream",
     "text": [
      "(191652, 85)\n"
     ]
    }
   ],
   "source": [
    "# Load in the general demographics data.\n",
    "customers = pd.read_csv(\"Udacity_CUSTOMERS_Subset.csv\", sep=';')\n",
    "\n",
    "print(customers.shape)"
   ]
  },
  {
   "cell_type": "code",
   "execution_count": 73,
   "metadata": {},
   "outputs": [
    {
     "name": "stdout",
     "output_type": "stream",
     "text": [
      "q1:  0.0  q3:  34.0  iqr:  34.0\n",
      "Number of outliers:  0\n",
      "upper_bound:  85.0\n"
     ]
    }
   ],
   "source": [
    "# Load in the customer demographics data.\n",
    "customers = clean_data(customers,col_list_drop_vis, col_list_drop)"
   ]
  },
  {
   "cell_type": "code",
   "execution_count": 74,
   "metadata": {},
   "outputs": [
    {
     "data": {
      "text/plain": [
       "(191652, 65)"
      ]
     },
     "execution_count": 74,
     "metadata": {},
     "output_type": "execute_result"
    }
   ],
   "source": [
    "customers.shape"
   ]
  },
  {
   "cell_type": "code",
   "execution_count": 75,
   "metadata": {},
   "outputs": [],
   "source": [
    "# confirm the column labels are same in both datasets\n",
    "df_col_list = customers.columns\n",
    "col_list = azdias.columns\n",
    "drop_list = []\n",
    "for i in range(len(col_list)):\n",
    "    for j in range(len(df_col_list)):\n",
    "        if col_list[i] == df_col_list[j]:\n",
    "            break\n",
    "        if j == len(df_col_list)-1:\n",
    "            print(\"idx: \", i, \"\\t col name: \", col_list[i])"
   ]
  },
  {
   "cell_type": "code",
   "execution_count": 76,
   "metadata": {},
   "outputs": [],
   "source": [
    "# Apply preprocessing, feature transformation, and clustering from the general\n",
    "# demographics onto the customer data, obtaining cluster predictions for the\n",
    "# customer demographics data.\n",
    "\n",
    "customers = customers.apply(pd.to_numeric)\n",
    "\n",
    "# If you've not yet cleaned the dataset of all NaN values, then investigate and\n",
    "# do that now.\n",
    "customers = customers.fillna(customers.mean(axis=0))\n",
    "\n",
    "# Apply feature scaling to the customer demographics data.\n",
    "scaled_data = scaler.transform(customers.values)\n",
    "customers = pd.DataFrame(data = scaled_data, columns = customers.columns)\n",
    "\n",
    "# Remove outlier rows, with values greater than 3 standard deviations\n",
    "customers = customers[customers.apply(lambda x: np.abs(x - x.mean()) / x.std() <= 3).all(axis=1)]\n",
    "\n",
    "# Apply PCA to the data.\n",
    "scaled_data = customers.values\n",
    "X = scaled_data\n",
    "X_pca_cust = pca.transform(X)\n",
    "\n",
    "# Finally predict the labels on the same data to show the category that point belongs to\n",
    "labels_cust = model.predict(X_pca_cust)"
   ]
  },
  {
   "cell_type": "code",
   "execution_count": 77,
   "metadata": {},
   "outputs": [
    {
     "data": {
      "text/plain": [
       "(151508, 65)"
      ]
     },
     "execution_count": 77,
     "metadata": {},
     "output_type": "execute_result"
    }
   ],
   "source": [
    "customers.shape"
   ]
  },
  {
   "cell_type": "markdown",
   "metadata": {},
   "source": [
    "### Step 3.3: Compare Customer Data to Demographics Data\n",
    "\n",
    "At this point, you have clustered data based on demographics of the general population of Germany, and seen how the customer data for a mail-order sales company maps onto those demographic clusters. In this final substep, you will compare the two cluster distributions to see where the strongest customer base for the company is.\n",
    "\n",
    "Consider the proportion of persons in each cluster for the general population, and the proportion in each cluster for the customers. If we think the company's customer base to be universal, then the cluster proportions should be fairly similar between the two. If there is only a particular segment of the population that is interested in the company's products, then we should see a mismatch between the two. If there is a higher proportion of persons in the cluster for the customer data compared to the general population (e.g. 5% of persons are assigned to a cluster for the general population, but 15% of the customer data is closest to that cluster's centroid) then that suggests the people in that cluster to be a target audience for the company. On the other hand, if the proportion of the data in a cluster is larger for the general population than the customer data (e.g. only 2% of customers closest to the population centroid that captures 6% of the population data) suggests that group of persons to be outside of the target demographics.\n",
    "\n",
    "Take a look at the following points in this step:\n",
    "\n",
    "- Compute the proportion of data points in each cluster for the general population and the customer data. Visualizations will be useful here: both, for each dataset proportion and to visualize the ratio in cluster representation between the two groups. Seaborn's [`countplot()`](https://seaborn.pydata.org/generated/seaborn.countplot.html) or [`barplot()`](https://seaborn.pydata.org/generated/seaborn.barplot.html) function could be handy.\n",
    "  - Recall the analysis you performed in step 1.1.3 of the project, where you separated out certain data points from the dataset if they had more than a specified threshold of missing values. If you found a group was qualitatively different from the main bulk of the data, you should treat this as an additional data cluster in this analysis. Make sure that you account for the number of data points in this subset, for both the general population and customer datasets, when making your computations!\n",
    "- Which cluster or clusters are overrepresented in the customer dataset compared to the general population? Select at least one such cluster and infer what kind of people might be represented by that cluster. Use the principal component interpretations from step 2.3 or look at additional components to help you make this inference. Alternatively, you can use the `.inverse_transform()` method of the PCA and StandardScaler objects to transform centroids back to the original data space and interpret the retrieved values directly.\n",
    "- Perform a similar investigation for the underrepresented clusters. Which cluster or clusters are underrepresented in the customer dataset compared to the general population, and what kinds of people are typified by these clusters?"
   ]
  },
  {
   "cell_type": "code",
   "execution_count": 78,
   "metadata": {},
   "outputs": [],
   "source": [
    "def get_prop_list(hist_vals):\n",
    "    h_vals, bin_vals = hist_vals[0], hist_vals[1]\n",
    "    bin_vals = list(bin_vals)\n",
    "    idx_0 = bin_vals.index(0.)\n",
    "    idx_1 = bin_vals.index(1.)\n",
    "    idx_2 = bin_vals.index(2.)\n",
    "    prop_0 = h_vals[idx_0]/sum(h_vals)\n",
    "    prop_1 = h_vals[idx_1]/sum(h_vals)\n",
    "    prop_2 = h_vals[idx_2-1]/sum(h_vals)\n",
    "    prop_list = [prop_0, prop_1, prop_2]\n",
    "    return prop_list"
   ]
  },
  {
   "cell_type": "code",
   "execution_count": 79,
   "metadata": {},
   "outputs": [
    {
     "data": {
      "image/png": "[encoded data removed]",
      "text/plain": [
       "<matplotlib.figure.Figure at 0x7f749a478b38>"
      ]
     },
     "metadata": {
      "needs_background": "light"
     },
     "output_type": "display_data"
    }
   ],
   "source": [
    "# Compare the proportion of data in each cluster for the customer data and general population data. OR\n",
    "# Compute the percentage of datapoints in each cluster.\n",
    "\n",
    "\n",
    "fig = plt.figure(figsize=(7,6))\n",
    "fig.suptitle('Cluster proportion for the general population', fontsize=14)\n",
    "ax = plt.subplot(111)\n",
    "hist_vals = plt.hist(labels_gen)\n",
    "prop_list = get_prop_list(hist_vals)\n",
    "h_vals = hist_vals[0]\n",
    "bin_vals = list(hist_vals[1])\n",
    "k = 0.1\n",
    "for i in range(len(prop_list)):\n",
    "    idx = bin_vals.index(i)\n",
    "    if i == max(bin_vals):\n",
    "        idx -= 1\n",
    "        k = -0.1\n",
    "    ax.annotate(r\"%s%%\" % ((str(prop_list[i]*100)[:4])), (i+k, h_vals[idx]), va=\"bottom\", ha=\"center\", fontsize=12)"
   ]
  },
  {
   "cell_type": "code",
   "execution_count": 80,
   "metadata": {},
   "outputs": [
    {
     "data": {
      "image/png": "[encoded data removed]",
      "text/plain": [
       "<matplotlib.figure.Figure at 0x7f7499edf198>"
      ]
     },
     "metadata": {
      "needs_background": "light"
     },
     "output_type": "display_data"
    }
   ],
   "source": [
    "fig = plt.figure(figsize=(7,6))\n",
    "fig.suptitle('Cluster proportion for customers', fontsize=14)\n",
    "ax = plt.subplot(111)\n",
    "hist_vals = plt.hist(labels_cust)\n",
    "prop_list = get_prop_list(hist_vals)\n",
    "h_vals = hist_vals[0]\n",
    "bin_vals = list(hist_vals[1])\n",
    "k = 0.1\n",
    "for i in range(len(prop_list)):\n",
    "    idx = bin_vals.index(i)\n",
    "    if i == max(bin_vals):\n",
    "        idx -= 1\n",
    "        k = -0.1\n",
    "    ax.annotate(r\"%s%%\" % ((str(prop_list[i]*100)[:4])), (i+k, h_vals[idx]), va=\"bottom\", ha=\"center\", fontsize=12)"
   ]
  },
  {
   "cell_type": "code",
   "execution_count": 81,
   "metadata": {},
   "outputs": [],
   "source": [
    "def get_col_sort(df, num_cols):\n",
    "    # 1- Count\n",
    "    df = df.append(df.count(), ignore_index=True)\n",
    "    # 2- sort\n",
    "    df_sorted = df.sort_values(len(df)-1, axis=1, ascending=False)\n",
    "    df_sorted = df_sorted.drop(df_sorted.tail(1).index)\n",
    "    # 3- slice\n",
    "    df_sorted = df_sorted.iloc[:, :num_cols]\n",
    "    return df_sorted\n",
    "\n",
    "def get_row_sort(df, num_row):\n",
    "    # Get most voting users\n",
    "    # 1- Count\n",
    "    df['counts'] = pd.Series(df.count(axis=1))\n",
    "    # 2- Sort\n",
    "    df_sorted = df.sort_values('counts', ascending=False)\n",
    "    # 3- Slice\n",
    "    df_sorted = df_sorted.iloc[:num_row, :]\n",
    "    df_sorted = df_sorted.drop(['counts'], axis=1)\n",
    "    \n",
    "    return df_sorted\n",
    "\n",
    "def sort_by_density(df, n_cols, n_rows):\n",
    "    df_sorted = get_col_sort(df, n_cols)\n",
    "    df_sorted = get_row_sort(df_sorted, n_rows)\n",
    "    return df_sorted\n",
    "\n",
    "def show_clusters(clustered, num_rows, num_cols):\n",
    "    c=1\n",
    "    for cluster_id in clustered.group.unique():\n",
    "        # To improve visibility, we're showing at most num_rows datapoints and num_cols features per cluster.\n",
    "        d = clustered[clustered.group == cluster_id].drop(['index', 'group'], axis=1)\n",
    "        n_users_in_cluster = d.shape[0]\n",
    "        \n",
    "        d = sort_by_density(d, num_cols, num_rows)\n",
    "        \n",
    "        d = d.reindex_axis(d.mean().sort_values(ascending=False).index, axis=1)\n",
    "        d = d.reindex_axis(d.count(axis=1).sort_values(ascending=False).index)\n",
    "        d = d.iloc[:num_rows, :num_cols]\n",
    "        n_users_in_plot = d.shape[0]\n",
    "        \n",
    "        # selecting to show clusters that have more than 9 users, otherwise, they're less interesting\n",
    "        if len(d) > 9:\n",
    "            print('cluster # {}'.format(cluster_id))\n",
    "            print('# of users in cluster: {}.'.format(n_users_in_cluster), '# of users in plot: {}'.format(n_users_in_plot))\n",
    "            fig = plt.figure(figsize=(15,4))\n",
    "            ax = plt.gca()\n",
    "\n",
    "            ax.invert_yaxis()\n",
    "            ax.xaxis.tick_top()\n",
    "            labels = list(d.columns)[:39]\n",
    "\n",
    "            ax.set_yticks(np.arange(d.shape[0]) , minor=False)\n",
    "            ax.set_xticks(np.arange(d.shape[1]) , minor=False)\n",
    "\n",
    "            ax.set_xticklabels(labels, minor=False)\n",
    "                        \n",
    "            ax.get_yaxis().set_visible(False)\n",
    "\n",
    "            # Heatmap\n",
    "            heatmap = plt.imshow(d, vmin=-3, vmax=3, aspect='auto')\n",
    "\n",
    "            ax.set_xlabel('components')\n",
    "            ax.set_ylabel('data-points')\n",
    "\n",
    "            divider = make_axes_locatable(ax)\n",
    "            cax = divider.append_axes(\"right\", size=\"5%\", pad=0.05)\n",
    "\n",
    "            # Color bar\n",
    "            cbar = fig.colorbar(heatmap, ticks=[3,2,1,0,-1,-2,-3], cax=cax)\n",
    "            cbar.ax.set_yticklabels(['3', '2','1','0','-1','-2','-3'])\n",
    "\n",
    "            plt.setp(ax.get_xticklabels(), rotation=90, fontsize=9)\n",
    "            plt.tick_params(axis='both', which='both', bottom='off', top='off', left='off', labelbottom='off', labelleft='off') \n",
    "            \n",
    "\n",
    "            plt.show()"
   ]
  },
  {
   "cell_type": "code",
   "execution_count": 82,
   "metadata": {},
   "outputs": [
    {
     "name": "stderr",
     "output_type": "stream",
     "text": [
      "/opt/conda/lib/python3.6/site-packages/ipykernel_launcher.py:37: FutureWarning: '.reindex_axis' is deprecated and will be removed in a future version. Use '.reindex' instead.\n",
      "/opt/conda/lib/python3.6/site-packages/ipykernel_launcher.py:38: FutureWarning: '.reindex_axis' is deprecated and will be removed in a future version. Use '.reindex' instead.\n"
     ]
    },
    {
     "name": "stdout",
     "output_type": "stream",
     "text": [
      "cluster # 0\n",
      "# of users in cluster: 80351. # of users in plot: 70\n"
     ]
    },
    {
     "data": {
      "image/png": "[encoded data removed]",
      "text/plain": [
       "<matplotlib.figure.Figure at 0x7f74dc61a128>"
      ]
     },
     "metadata": {
      "needs_background": "light"
     },
     "output_type": "display_data"
    },
    {
     "name": "stdout",
     "output_type": "stream",
     "text": [
      "cluster # 1\n",
      "# of users in cluster: 23144. # of users in plot: 70\n"
     ]
    },
    {
     "data": {
      "image/png": "[encoded data removed]",
      "text/plain": [
       "<matplotlib.figure.Figure at 0x7f749a135b38>"
      ]
     },
     "metadata": {
      "needs_background": "light"
     },
     "output_type": "display_data"
    },
    {
     "name": "stdout",
     "output_type": "stream",
     "text": [
      "cluster # 2\n",
      "# of users in cluster: 48013. # of users in plot: 70\n"
     ]
    },
    {
     "data": {
      "image/png": "[encoded data removed]",
      "text/plain": [
       "<matplotlib.figure.Figure at 0x7f7498517f98>"
      ]
     },
     "metadata": {
      "needs_background": "light"
     },
     "output_type": "display_data"
    }
   ],
   "source": [
    "# What type of persons is part of the cluster, overrepresented in the\n",
    "# customer data compared to the general population?\n",
    "n_rows = 70\n",
    "n_cols = 50\n",
    "X_pca_cust = pd.DataFrame(data=X_pca_cust)\n",
    "clustered = pd.concat([X_pca_cust.reset_index(), pd.DataFrame({'group':labels_cust})], axis=1)\n",
    "show_clusters(clustered, n_rows, n_cols)"
   ]
  },
  {
   "cell_type": "code",
   "execution_count": null,
   "metadata": {},
   "outputs": [],
   "source": [
    "## What kinds of people are part of a cluster that is underrepresented in the\n",
    "# customer data compared to the general population?\n",
    "\n"
   ]
  },
  {
   "cell_type": "markdown",
   "metadata": {},
   "source": [
    "### Discussion 3.3: Compare Customer Data to Demographics Data\n",
    "\n",
    "(Double-click this cell and replace this text with your own text, reporting findings and conclusions from the clustering analysis. Can we describe segments of the population that are relatively popular with the mail-order company, or relatively unpopular with the company?)\n",
    "\n",
    "The segment of the population relatively popular with the company is captured by cluster 0. The percentage of datapoints in cluster 0 for the PCA transformed dataset of the customers is 53.0%, while that of the general population is 41.1%. This shows there is a greater representation of cluster 0 datapoints in the company and represents a portion of the population most likely to become customers. With reference to the heatmaps, cluster 0 brings together datapoints with high positive values for component 2, which corresponds to high positive values for ANREDE_KZ_1 and SEMIO_VERT in descending order. Cluster 2 also brings together datapoints with low values of component 0, which corresponds to low values for PLZ8_ANTG3,  LP_STATUS_GROB_1.0, and PLZ8_ANTG4. This cluster seems to be males with middle income.\n",
    "\n",
    "Conversely, the segment of the population relatively unpopular with the company is the captured by cluster 1. The percentage of datapoints in cluster 1 for the PCA transformed dataset of the customers is 15.2%, while that of the general population is 29.9%. This shows there is a lesser representation of cluster 1 datapoints in the company and represents a portion of the population most unlikely to become customers. With reference to the heatmaps, cluster 1 brings together datapoints with high values of component 2. High values for component 2, corresponds to high values for ANREDE_KZ_1 and SEMIO_VERT. Cluster 1 also brings together datapoints with low values of component 1, which corresponds to low values for SEMIO_REL, SEMIO_KULT, PRAEGENDE_JUGENDJAHRE_GEN, FINANZ_SPARER, SEMIO_PFLICHT, SEMIO_TRADV, and FINANZ_UNAUFFAELLIGER. This cluster seems to be older males."
   ]
  },
  {
   "cell_type": "markdown",
   "metadata": {},
   "source": [
    "> Congratulations on making it this far in the project! Before you finish, make sure to check through the entire notebook from top to bottom to make sure that your analysis follows a logical flow and all of your findings are documented in **Discussion** cells. Once you've checked over all of your work, you should export the notebook as an HTML document to submit for evaluation. You can do this from the menu, navigating to **File -> Download as -> HTML (.html)**. You will submit both that document and this notebook for your project submission."
   ]
  }
 ],
 "metadata": {
  "kernelspec": {
   "display_name": "Python 3",
   "language": "python",
   "name": "python3"
  },
  "language_info": {
   "codemirror_mode": {
    "name": "ipython",
    "version": 3
   },
   "file_extension": ".py",
   "mimetype": "text/x-python",
   "name": "python",
   "nbconvert_exporter": "python",
   "pygments_lexer": "ipython3",
   "version": "3.6.3"
  }
 },
 "nbformat": 4,
 "nbformat_minor": 2
}
